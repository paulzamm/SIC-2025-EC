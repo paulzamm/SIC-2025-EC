{
  "cells": [
    {
      "cell_type": "markdown",
      "id": "49909eb6",
      "metadata": {
        "id": "49909eb6"
      },
      "source": [
        "# Codificacion y Programacion\n",
        "## Capítulo 7\n",
        "\n",
        "### Procesamiento de datos, estadísticas descriptivas y visualización de datos\n",
        "\n",
        "- **Unidad 34.** Uso de módulos de Python\n",
        "- **Unidad 35.** Serie de Pandas para el tratamiento de datos\n",
        "- **Unidad 36.** Pandas DataFrame para procesamiento de datos\n",
        "- **Unidad 37.** Ordenamiento de datos\n",
        "\n"
      ]
    },
    {
      "cell_type": "markdown",
      "id": "2e42031a",
      "metadata": {
        "id": "2e42031a"
      },
      "source": [
        "___"
      ]
    },
    {
      "cell_type": "markdown",
      "id": "780f0fff",
      "metadata": {
        "id": "780f0fff"
      },
      "source": [
        "## Q 34-01\n",
        "\n",
        "Convierta los siguientes datos del diccionario en un dataframe usando **Pandas**.\n",
        "\n",
        "(Denomina el dataframe `df`)\n",
        "\n",
        "`d = { 'col1':[1,2], 'col2':[3,4], 'col3':[5,6], 'col4':[7,8] }`"
      ]
    },
    {
      "cell_type": "markdown",
      "id": "b3305507",
      "metadata": {
        "id": "b3305507"
      },
      "source": []
    },
    {
      "cell_type": "markdown",
      "id": "f77a6a5c",
      "metadata": {
        "id": "f77a6a5c"
      },
      "source": [
        "___"
      ]
    },
    {
      "cell_type": "markdown",
      "id": "89395b47",
      "metadata": {
        "id": "89395b47"
      },
      "source": [
        "## Q 35-01\n",
        "\n",
        "En el DataFrame creado en la pregunta **Q 34-01**, cree un nuevo dataframe que consista solo en los datos de la columna con el nombre de columna `'col4'`.\n",
        "\n",
        "(Denomina el dataframe `new_df`)\n"
      ]
    },
    {
      "cell_type": "markdown",
      "id": "6f896a18",
      "metadata": {
        "id": "6f896a18"
      },
      "source": []
    },
    {
      "cell_type": "markdown",
      "id": "4b5b87cd",
      "metadata": {
        "id": "4b5b87cd"
      },
      "source": [
        "___"
      ]
    },
    {
      "cell_type": "markdown",
      "id": "881569fc",
      "metadata": {
        "id": "881569fc"
      },
      "source": [
        "## Q 36-01\n",
        "\n",
        "El índice del dataframe creado en la pregunta **Q 34-01** es `0` y `1`.\n",
        "\n",
        "Escriba un comando para cambiar el nombre de estos índices a `primero` y `segundo`."
      ]
    },
    {
      "cell_type": "markdown",
      "id": "a3fb276d",
      "metadata": {
        "id": "a3fb276d"
      },
      "source": []
    },
    {
      "cell_type": "markdown",
      "id": "8e7a5d3b",
      "metadata": {
        "id": "8e7a5d3b"
      },
      "source": [
        "___"
      ]
    },
    {
      "cell_type": "markdown",
      "id": "1087c522",
      "metadata": {
        "id": "1087c522"
      },
      "source": [
        "## Q 37-01\n",
        "\n",
        "Escriba un comando para buscar datos faltantes en el dataframe `df` creado en la pregunta **Q 34-01** e imprima el resultado.\n",
        "\n",
        "(Sin embargo, los datos que faltan deben devolverse como verdaderos)."
      ]
    },
    {
      "cell_type": "markdown",
      "id": "aa984b53",
      "metadata": {
        "id": "aa984b53"
      },
      "source": []
    },
    {
      "cell_type": "markdown",
      "id": "ab5e3562",
      "metadata": {
        "id": "ab5e3562"
      },
      "source": [
        "___"
      ]
    },
    {
      "cell_type": "markdown",
      "id": "e060ee29",
      "metadata": {
        "id": "e060ee29"
      },
      "source": [
        "## Q 38-01\n",
        "\n",
        "Escriba un comando para verificar el resumen de las estadísticas descriptivas (desviación estándar, valor mínimo, moda, etc.) del dataframe `df` creado en la pregunta **Q 34-01** e imprima el resultado."
      ]
    },
    {
      "cell_type": "markdown",
      "id": "2ecfe672",
      "metadata": {
        "id": "2ecfe672"
      },
      "source": []
    },
    {
      "cell_type": "markdown",
      "id": "84a390f6",
      "metadata": {
        "id": "84a390f6"
      },
      "source": [
        "___"
      ]
    },
    {
      "cell_type": "markdown",
      "id": "23d7b61e",
      "metadata": {
        "id": "23d7b61e"
      },
      "source": [
        "# Fin"
      ]
    }
  ],
  "metadata": {
    "kernelspec": {
      "display_name": "Python 3 (ipykernel)",
      "language": "python",
      "name": "python3"
    },
    "language_info": {
      "codemirror_mode": {
        "name": "ipython",
        "version": 3
      },
      "file_extension": ".py",
      "mimetype": "text/x-python",
      "name": "python",
      "nbconvert_exporter": "python",
      "pygments_lexer": "ipython3",
      "version": "3.10.12"
    },
    "colab": {
      "provenance": []
    }
  },
  "nbformat": 4,
  "nbformat_minor": 5
}