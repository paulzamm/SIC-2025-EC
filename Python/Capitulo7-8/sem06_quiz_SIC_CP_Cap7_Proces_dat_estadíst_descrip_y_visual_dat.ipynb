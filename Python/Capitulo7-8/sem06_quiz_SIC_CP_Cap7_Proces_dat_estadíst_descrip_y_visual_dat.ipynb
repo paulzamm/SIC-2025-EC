{
  "cells": [
    {
      "cell_type": "markdown",
      "id": "49909eb6",
      "metadata": {
        "id": "49909eb6"
      },
      "source": [
        "# Codificacion y Programacion\n",
        "## Capítulo 7\n",
        "\n",
        "### Procesamiento de datos, estadísticas descriptivas y visualización de datos\n",
        "\n",
        "- **Unidad 34.** Uso de módulos de Python\n",
        "- **Unidad 35.** Serie de Pandas para el tratamiento de datos\n",
        "- **Unidad 36.** Pandas DataFrame para procesamiento de datos\n",
        "- **Unidad 37.** Ordenamiento de datos\n",
        "\n"
      ]
    },
    {
      "cell_type": "markdown",
      "id": "2e42031a",
      "metadata": {
        "id": "2e42031a"
      },
      "source": [
        "___"
      ]
    },
    {
      "cell_type": "markdown",
      "id": "780f0fff",
      "metadata": {
        "id": "780f0fff"
      },
      "source": [
        "## Q 34-01\n",
        "\n",
        "Convierta los siguientes datos del diccionario en un dataframe usando **Pandas**.\n",
        "\n",
        "(Denomina el dataframe `df`)\n",
        "\n",
        "`d = { 'col1':[1,2], 'col2':[3,4], 'col3':[5,6], 'col4':[7,8] }`"
      ]
    },
    {
      "cell_type": "code",
      "execution_count": 49,
      "id": "71e3495c",
      "metadata": {},
      "outputs": [
        {
          "data": {
            "text/html": [
              "<div>\n",
              "<style scoped>\n",
              "    .dataframe tbody tr th:only-of-type {\n",
              "        vertical-align: middle;\n",
              "    }\n",
              "\n",
              "    .dataframe tbody tr th {\n",
              "        vertical-align: top;\n",
              "    }\n",
              "\n",
              "    .dataframe thead th {\n",
              "        text-align: right;\n",
              "    }\n",
              "</style>\n",
              "<table border=\"1\" class=\"dataframe\">\n",
              "  <thead>\n",
              "    <tr style=\"text-align: right;\">\n",
              "      <th></th>\n",
              "      <th>col1</th>\n",
              "      <th>col2</th>\n",
              "      <th>col3</th>\n",
              "      <th>col4</th>\n",
              "    </tr>\n",
              "  </thead>\n",
              "  <tbody>\n",
              "    <tr>\n",
              "      <th>0</th>\n",
              "      <td>1</td>\n",
              "      <td>3</td>\n",
              "      <td>5</td>\n",
              "      <td>7</td>\n",
              "    </tr>\n",
              "    <tr>\n",
              "      <th>1</th>\n",
              "      <td>2</td>\n",
              "      <td>4</td>\n",
              "      <td>6</td>\n",
              "      <td>8</td>\n",
              "    </tr>\n",
              "  </tbody>\n",
              "</table>\n",
              "</div>"
            ],
            "text/plain": [
              "   col1  col2  col3  col4\n",
              "0     1     3     5     7\n",
              "1     2     4     6     8"
            ]
          },
          "metadata": {},
          "output_type": "display_data"
        }
      ],
      "source": [
        "import pandas as pd\n",
        "\n",
        "d = { 'col1':[1,2], 'col2':[3,4], 'col3':[5,6], 'col4':[7,8] }\n",
        "\n",
        "df = pd.DataFrame(d)\n",
        "display(df.head())"
      ]
    },
    {
      "cell_type": "markdown",
      "id": "f77a6a5c",
      "metadata": {
        "id": "f77a6a5c"
      },
      "source": [
        "___"
      ]
    },
    {
      "cell_type": "markdown",
      "id": "89395b47",
      "metadata": {
        "id": "89395b47"
      },
      "source": [
        "## Q 35-01\n",
        "\n",
        "En el DataFrame creado en la pregunta **Q 34-01**, cree un nuevo dataframe que consista solo en los datos de la columna con el nombre de columna `'col4'`.\n",
        "\n",
        "(Denomina el dataframe `new_df`)\n"
      ]
    },
    {
      "cell_type": "code",
      "execution_count": 48,
      "id": "251770b4",
      "metadata": {},
      "outputs": [
        {
          "data": {
            "text/html": [
              "<div>\n",
              "<style scoped>\n",
              "    .dataframe tbody tr th:only-of-type {\n",
              "        vertical-align: middle;\n",
              "    }\n",
              "\n",
              "    .dataframe tbody tr th {\n",
              "        vertical-align: top;\n",
              "    }\n",
              "\n",
              "    .dataframe thead th {\n",
              "        text-align: right;\n",
              "    }\n",
              "</style>\n",
              "<table border=\"1\" class=\"dataframe\">\n",
              "  <thead>\n",
              "    <tr style=\"text-align: right;\">\n",
              "      <th></th>\n",
              "      <th>col4</th>\n",
              "    </tr>\n",
              "  </thead>\n",
              "  <tbody>\n",
              "    <tr>\n",
              "      <th>primero</th>\n",
              "      <td>7</td>\n",
              "    </tr>\n",
              "    <tr>\n",
              "      <th>segundo</th>\n",
              "      <td>8</td>\n",
              "    </tr>\n",
              "  </tbody>\n",
              "</table>\n",
              "</div>"
            ],
            "text/plain": [
              "         col4\n",
              "primero     7\n",
              "segundo     8"
            ]
          },
          "metadata": {},
          "output_type": "display_data"
        }
      ],
      "source": [
        "new_df = df[['col4']]\n",
        "\n",
        "display(new_df.head())"
      ]
    },
    {
      "cell_type": "markdown",
      "id": "d80793f9",
      "metadata": {},
      "source": [
        "new_df = df[['col4']]\n",
        "\n",
        "new_df.head()"
      ]
    },
    {
      "cell_type": "markdown",
      "id": "4b5b87cd",
      "metadata": {
        "id": "4b5b87cd"
      },
      "source": [
        "___"
      ]
    },
    {
      "cell_type": "markdown",
      "id": "881569fc",
      "metadata": {
        "id": "881569fc"
      },
      "source": [
        "## Q 36-01\n",
        "\n",
        "El índice del dataframe creado en la pregunta **Q 34-01** es `0` y `1`.\n",
        "\n",
        "Escriba un comando para cambiar el nombre de estos índices a `primero` y `segundo`."
      ]
    },
    {
      "cell_type": "code",
      "execution_count": 47,
      "id": "67285344",
      "metadata": {},
      "outputs": [
        {
          "data": {
            "text/html": [
              "<div>\n",
              "<style scoped>\n",
              "    .dataframe tbody tr th:only-of-type {\n",
              "        vertical-align: middle;\n",
              "    }\n",
              "\n",
              "    .dataframe tbody tr th {\n",
              "        vertical-align: top;\n",
              "    }\n",
              "\n",
              "    .dataframe thead th {\n",
              "        text-align: right;\n",
              "    }\n",
              "</style>\n",
              "<table border=\"1\" class=\"dataframe\">\n",
              "  <thead>\n",
              "    <tr style=\"text-align: right;\">\n",
              "      <th></th>\n",
              "      <th>col1</th>\n",
              "      <th>col2</th>\n",
              "      <th>col3</th>\n",
              "      <th>col4</th>\n",
              "    </tr>\n",
              "  </thead>\n",
              "  <tbody>\n",
              "    <tr>\n",
              "      <th>primero</th>\n",
              "      <td>1</td>\n",
              "      <td>3</td>\n",
              "      <td>5</td>\n",
              "      <td>7</td>\n",
              "    </tr>\n",
              "    <tr>\n",
              "      <th>segundo</th>\n",
              "      <td>2</td>\n",
              "      <td>4</td>\n",
              "      <td>6</td>\n",
              "      <td>8</td>\n",
              "    </tr>\n",
              "  </tbody>\n",
              "</table>\n",
              "</div>"
            ],
            "text/plain": [
              "         col1  col2  col3  col4\n",
              "primero     1     3     5     7\n",
              "segundo     2     4     6     8"
            ]
          },
          "metadata": {},
          "output_type": "display_data"
        }
      ],
      "source": [
        "df.index = ['primero', 'segundo']\n",
        "\n",
        "display(df.head())"
      ]
    },
    {
      "cell_type": "markdown",
      "id": "8e7a5d3b",
      "metadata": {
        "id": "8e7a5d3b"
      },
      "source": [
        "___"
      ]
    },
    {
      "cell_type": "markdown",
      "id": "1087c522",
      "metadata": {
        "id": "1087c522"
      },
      "source": [
        "## Q 37-01\n",
        "\n",
        "Escriba un comando para buscar datos faltantes en el dataframe `df` creado en la pregunta **Q 34-01** e imprima el resultado.\n",
        "\n",
        "(Sin embargo, los datos que faltan deben devolverse como verdaderos)."
      ]
    },
    {
      "cell_type": "code",
      "execution_count": 46,
      "id": "9e1f5cfb",
      "metadata": {},
      "outputs": [
        {
          "data": {
            "text/html": [
              "<div>\n",
              "<style scoped>\n",
              "    .dataframe tbody tr th:only-of-type {\n",
              "        vertical-align: middle;\n",
              "    }\n",
              "\n",
              "    .dataframe tbody tr th {\n",
              "        vertical-align: top;\n",
              "    }\n",
              "\n",
              "    .dataframe thead th {\n",
              "        text-align: right;\n",
              "    }\n",
              "</style>\n",
              "<table border=\"1\" class=\"dataframe\">\n",
              "  <thead>\n",
              "    <tr style=\"text-align: right;\">\n",
              "      <th></th>\n",
              "      <th>col1</th>\n",
              "      <th>col2</th>\n",
              "      <th>col3</th>\n",
              "      <th>col4</th>\n",
              "    </tr>\n",
              "  </thead>\n",
              "  <tbody>\n",
              "    <tr>\n",
              "      <th>primero</th>\n",
              "      <td>False</td>\n",
              "      <td>False</td>\n",
              "      <td>False</td>\n",
              "      <td>False</td>\n",
              "    </tr>\n",
              "    <tr>\n",
              "      <th>segundo</th>\n",
              "      <td>False</td>\n",
              "      <td>False</td>\n",
              "      <td>False</td>\n",
              "      <td>False</td>\n",
              "    </tr>\n",
              "  </tbody>\n",
              "</table>\n",
              "</div>"
            ],
            "text/plain": [
              "          col1   col2   col3   col4\n",
              "primero  False  False  False  False\n",
              "segundo  False  False  False  False"
            ]
          },
          "metadata": {},
          "output_type": "display_data"
        }
      ],
      "source": [
        "display(df.isnull())"
      ]
    },
    {
      "cell_type": "markdown",
      "id": "ab5e3562",
      "metadata": {
        "id": "ab5e3562"
      },
      "source": [
        "___"
      ]
    },
    {
      "cell_type": "markdown",
      "id": "e060ee29",
      "metadata": {
        "id": "e060ee29"
      },
      "source": [
        "## Q 38-01\n",
        "\n",
        "Escriba un comando para verificar el resumen de las estadísticas descriptivas (desviación estándar, valor mínimo, moda, etc.) del dataframe `df` creado en la pregunta **Q 34-01** e imprima el resultado."
      ]
    },
    {
      "cell_type": "code",
      "execution_count": 45,
      "id": "1ec0db91",
      "metadata": {},
      "outputs": [
        {
          "data": {
            "text/html": [
              "<div>\n",
              "<style scoped>\n",
              "    .dataframe tbody tr th:only-of-type {\n",
              "        vertical-align: middle;\n",
              "    }\n",
              "\n",
              "    .dataframe tbody tr th {\n",
              "        vertical-align: top;\n",
              "    }\n",
              "\n",
              "    .dataframe thead th {\n",
              "        text-align: right;\n",
              "    }\n",
              "</style>\n",
              "<table border=\"1\" class=\"dataframe\">\n",
              "  <thead>\n",
              "    <tr style=\"text-align: right;\">\n",
              "      <th></th>\n",
              "      <th>col1</th>\n",
              "      <th>col2</th>\n",
              "      <th>col3</th>\n",
              "      <th>col4</th>\n",
              "    </tr>\n",
              "  </thead>\n",
              "  <tbody>\n",
              "    <tr>\n",
              "      <th>count</th>\n",
              "      <td>2.000000</td>\n",
              "      <td>2.000000</td>\n",
              "      <td>2.000000</td>\n",
              "      <td>2.000000</td>\n",
              "    </tr>\n",
              "    <tr>\n",
              "      <th>mean</th>\n",
              "      <td>1.500000</td>\n",
              "      <td>3.500000</td>\n",
              "      <td>5.500000</td>\n",
              "      <td>7.500000</td>\n",
              "    </tr>\n",
              "    <tr>\n",
              "      <th>std</th>\n",
              "      <td>0.707107</td>\n",
              "      <td>0.707107</td>\n",
              "      <td>0.707107</td>\n",
              "      <td>0.707107</td>\n",
              "    </tr>\n",
              "    <tr>\n",
              "      <th>min</th>\n",
              "      <td>1.000000</td>\n",
              "      <td>3.000000</td>\n",
              "      <td>5.000000</td>\n",
              "      <td>7.000000</td>\n",
              "    </tr>\n",
              "    <tr>\n",
              "      <th>25%</th>\n",
              "      <td>1.250000</td>\n",
              "      <td>3.250000</td>\n",
              "      <td>5.250000</td>\n",
              "      <td>7.250000</td>\n",
              "    </tr>\n",
              "    <tr>\n",
              "      <th>50%</th>\n",
              "      <td>1.500000</td>\n",
              "      <td>3.500000</td>\n",
              "      <td>5.500000</td>\n",
              "      <td>7.500000</td>\n",
              "    </tr>\n",
              "    <tr>\n",
              "      <th>75%</th>\n",
              "      <td>1.750000</td>\n",
              "      <td>3.750000</td>\n",
              "      <td>5.750000</td>\n",
              "      <td>7.750000</td>\n",
              "    </tr>\n",
              "    <tr>\n",
              "      <th>max</th>\n",
              "      <td>2.000000</td>\n",
              "      <td>4.000000</td>\n",
              "      <td>6.000000</td>\n",
              "      <td>8.000000</td>\n",
              "    </tr>\n",
              "  </tbody>\n",
              "</table>\n",
              "</div>"
            ],
            "text/plain": [
              "           col1      col2      col3      col4\n",
              "count  2.000000  2.000000  2.000000  2.000000\n",
              "mean   1.500000  3.500000  5.500000  7.500000\n",
              "std    0.707107  0.707107  0.707107  0.707107\n",
              "min    1.000000  3.000000  5.000000  7.000000\n",
              "25%    1.250000  3.250000  5.250000  7.250000\n",
              "50%    1.500000  3.500000  5.500000  7.500000\n",
              "75%    1.750000  3.750000  5.750000  7.750000\n",
              "max    2.000000  4.000000  6.000000  8.000000"
            ]
          },
          "metadata": {},
          "output_type": "display_data"
        }
      ],
      "source": [
        "display(df.describe())"
      ]
    },
    {
      "cell_type": "markdown",
      "id": "84a390f6",
      "metadata": {
        "id": "84a390f6"
      },
      "source": [
        "___"
      ]
    },
    {
      "cell_type": "markdown",
      "id": "23d7b61e",
      "metadata": {
        "id": "23d7b61e"
      },
      "source": [
        "# Fin"
      ]
    }
  ],
  "metadata": {
    "colab": {
      "provenance": []
    },
    "kernelspec": {
      "display_name": "Python 3",
      "language": "python",
      "name": "python3"
    },
    "language_info": {
      "codemirror_mode": {
        "name": "ipython",
        "version": 3
      },
      "file_extension": ".py",
      "mimetype": "text/x-python",
      "name": "python",
      "nbconvert_exporter": "python",
      "pygments_lexer": "ipython3",
      "version": "3.13.7"
    }
  },
  "nbformat": 4,
  "nbformat_minor": 5
}
