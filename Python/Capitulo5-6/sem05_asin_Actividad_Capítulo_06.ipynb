{
  "cells": [
    {
      "cell_type": "markdown",
      "id": "49909eb6",
      "metadata": {
        "id": "49909eb6"
      },
      "source": [
        "# Actividades Capítulo 6.\n",
        "\n",
        "\n",
        "# Algoritmos de clasificación.\n",
        "\n",
        "## Resumen de actividades\n",
        "\n",
        "- **Unidad 30.** Enfoque Greedy algoritmos voraces o ávidos.\n",
        "- **Unidad 31.** Divide y vencerás\n",
        "- **Unidad 32.** Programación dinámica\n",
        "- **Unidad 33.** Retroceso\n"
      ]
    },
    {
      "cell_type": "markdown",
      "id": "780f0fff",
      "metadata": {
        "id": "780f0fff"
      },
      "source": [
        "# Actividad: Algoritmos Greedy.\n",
        "\n",
        "\n",
        "## Instrucciones\n",
        "\n",
        "1. Explique brevemente y en forma clara qué es un algoritmo Greedy y como funciona..\n",
        "\n",
        "2. Enumera algunas ventajas.\n",
        "\n",
        "3. Enumera algunas desventajas.\n",
        "\n",
        "4. Escriba el código desarrollado con el enfoque Greeddy para el problema de cambio de monedas, haga diferentes pruebas cambian las entradas (recuerde que las entrada de este algoritmo son las monedas disponibles y la cantida que se desea cubrir, con estas entradas el algoritmo debe retornar la combinación de monedas que cubre el monto solicitado, minimizando la cantidad de monedas usadas)\n",
        "\n",
        "5. Ahora pruebe los resultados con siguientes entradas: monedas_disponibles = [11, 5, 1] para cubrer la cantidad de 15, observe los resultados, haga algunas analísis de lo que pasaria con esta combinación de entradas.\n"
      ]
    },
    {
      "cell_type": "code",
      "execution_count": null,
      "id": "21a779a5",
      "metadata": {
        "id": "21a779a5"
      },
      "outputs": [
        {
          "name": "stdout",
          "output_type": "stream",
          "text": [
            "Monto: 15\n",
            "Total de monedas: 5\n",
            "Desglose: {11: 1, 1: 4}\n"
          ]
        }
      ],
      "source": [
        "# Espacio disponible para desarrollar el código y agregar los comentarios necesarios.\n",
        "\n",
        "# 1.\n",
        "# Es una técnica de resolución de problemas de optimización, consiste en elegir la mejor opción\n",
        "# en cada paso, esperando que la suma de estas elecciones localmente optimas lleven a una\n",
        "# solución globalmente óptima.\n",
        "# 2.\n",
        "# VENTAJAS\n",
        "# - Eficiente para ciertos problemas\n",
        "# - Es sencillo y fácil de entender\n",
        "# - Tiempo de ejecución rápido\n",
        "# 3.\n",
        "# DESVENTAJAS\n",
        "# - No siempre da la solución óptima global\n",
        "# - Puede afectar el orden de los datos de entrada\n",
        "# - Una vez que se toma una decisión, el algoritmo no retrocede para tomar otras opciones\n",
        "\n",
        "\n",
        "# 4\n",
        "def cambio_monedas(monedas, monto):\n",
        "    # Ordenar de mayor a menor (Greedy toma la más grande primero)\n",
        "    monedas.sort(reverse=True)\n",
        "    cantidad_monedas = 0\n",
        "    desglose = {}\n",
        "    \n",
        "    for moneda in monedas:\n",
        "        # Validar que el monto es mayor o igual a la moneda actual\n",
        "        if monto >= moneda:\n",
        "            num_monedas = monto // moneda  # Calcular cuantas monedas de este tipo podemos usar\n",
        "            cantidad_monedas += num_monedas  # Sumar la cantidad al total\n",
        "            desglose[moneda] = num_monedas # Guardar el desglose en el dict\n",
        "            monto %= moneda  # Actualizar el monto restante con el residuo\n",
        "    return cantidad_monedas, desglose\n",
        "\n",
        "# 5\n",
        "monedas_disponibles = [11, 5, 1]\n",
        "monto = 15\n",
        "total_monedas, desglose = cambio_monedas(monedas_disponibles, monto)\n",
        "print(f\"Monto: {monto}\")\n",
        "print(f\"Total de monedas: {total_monedas}\")\n",
        "print(f\"Desglose: {desglose}\")\n"
      ]
    },
    {
      "cell_type": "markdown",
      "id": "89395b47",
      "metadata": {
        "id": "89395b47"
      },
      "source": [
        "# Actividad: Replique el código de la búsqueda de la trayectoria triangular mínima.\n",
        "\n",
        "\n",
        "## Instrucciones\n",
        "\n",
        "\n",
        "1. Replique el código mostrado en la unidad 31.\n",
        "\n",
        "2. Analice el código replicado y agregue una explicíon sonbre su funcionamiento.\n",
        "\n",
        "3. Haga diferentes pruebas cambiando la entrada.\n"
      ]
    },
    {
      "cell_type": "code",
      "execution_count": 16,
      "id": "d446e273",
      "metadata": {
        "id": "d446e273"
      },
      "outputs": [
        {
          "name": "stdout",
          "output_type": "stream",
          "text": [
            "El costo mínimo es:  11\n",
            "El costo mínimo es:  18\n"
          ]
        }
      ],
      "source": [
        "# Espacio para desarrollar el código y agregar los comentarios necesarios.\n",
        "\n",
        "def find_minimum(row, col, triangle):\n",
        "    # Caso base: verificar que ya se recorrió todo el triangulo\n",
        "    if row == len(triangle):\n",
        "        return 0\n",
        "    else:\n",
        "        # Llamadas recursivas para los 2 caminos posibles\n",
        "        minimum = min(find_minimum(row + 1, col, triangle),  # Camino para bajar recto\n",
        "                    find_minimum(row + 1, col + 1, triangle))  # Camino para bajar a la derecha\n",
        "        # Sumar el valor de la posición actual al mínimo de los caminos hacia abajo\n",
        "        return triangle[row][col] + minimum \n",
        "\n",
        "\n",
        "triangle = [\n",
        "    [2],\n",
        "    [3, 4],\n",
        "    [6, 5, 7],\n",
        "    [4, 1, 8, 3]\n",
        "]\n",
        "minimun = find_minimum(0, 0, triangle)\n",
        "print(\"El costo mínimo es: \", minimun)\n",
        "\n",
        "triangle2 = [\n",
        "    [5],\n",
        "    [9, 6],\n",
        "    [4, 6, 8],\n",
        "    [0, 7, 1, 5]\n",
        "]\n",
        "minimun = find_minimum(0, 0, triangle2)\n",
        "print(\"El costo mínimo es: \", minimun)\n"
      ]
    },
    {
      "cell_type": "markdown",
      "id": "881569fc",
      "metadata": {
        "id": "881569fc"
      },
      "source": [
        "# Actividad: Búsqueda binaria con iteración.\n",
        "\n",
        "\n",
        "## Instrucciones\n",
        "\n",
        "\n",
        "1. Replique el código mostrado en la unidad 31.\n",
        "\n",
        "2. Analice el código replicado y agregue una explicíon sonbre su funcionamiento.\n",
        "\n",
        "3. Explique por qué es necesario usar usar una función recursiva.\n",
        "\n",
        "4. Haga diferentes pruebas cambiando la entrada.\n"
      ]
    },
    {
      "cell_type": "code",
      "execution_count": 23,
      "id": "0b1f525d",
      "metadata": {
        "id": "0b1f525d"
      },
      "outputs": [
        {
          "name": "stdout",
          "output_type": "stream",
          "text": [
            "Buscando 9 en [1, 3, 5, 7, 9, 11] => encontrado en la posición = 4\n",
            "Buscando 3 en [1, 3, 5, 7, 9, 11] => encontrado en la posición = 1\n",
            "Buscando 4 en [2, 4, 6, 8, 10] => encontrado en la posición = 1\n",
            "Buscando 8 en [2, 4, 6, 8, 10] => encontrado en la posición = 3\n",
            "Buscando 70 en [10, 20, 30, 40, 50, 60, 70] => encontrado en la posición = 6\n",
            "Buscando 40 en [10, 20, 30, 40, 50, 60, 70] => encontrado en la posición = 3\n"
          ]
        }
      ],
      "source": [
        "# Espacio para desarrollar el código y agregar los comentarios necesarios.\n",
        "\n",
        "# 1.\n",
        "def bin_search(nums, x):\n",
        "    low, high = 0, len(nums) -1  # Definir los límites de la busqueda\n",
        "    \n",
        "    while low <= high:  # Validar que sea un rango válido\n",
        "        mid = (low + high) //2  # Calcular la posición del medio\n",
        "        \n",
        "        if nums[mid] == x:  \n",
        "            return mid   # Si encuentra el valor en la mitad, devolver el índice\n",
        "        elif nums[mid] > x: \n",
        "            high = mid - 1  # Si el valor del medio es mayor que x, buscar en la mitad izquierda\n",
        "        else:\n",
        "            low = mid +1    # Si el valor del medio es menor que x, buscar en la mitad derecha\n",
        "    return -1  # Devolver -1 si no encuentra el valor\n",
        "\n",
        "#2.\n",
        "\n",
        "\n",
        "# 3.\n",
        "# Usar una función recursiva en la busqueda binaria permite resolver el problema en subproblemas más pequeños y manejables.\n",
        "# - Cada llamada recursiva solo necesita buscar en la mitad izquierda o derecha.\n",
        "# - La recursión nos permite hacer el código más legible.\n",
        "\n",
        "# 4.\n",
        "nums1 = [1, 3, 5, 7, 9, 11]\n",
        "nums2 = [2, 4, 6, 8, 10]\n",
        "nums3 = [10, 20, 30, 40, 50, 60, 70]\n",
        "\n",
        "busquedas = [(nums1, 9), (nums1, 3), (nums2, 4), (nums2, 8), (nums3, 70), (nums3, 40)]\n",
        "\n",
        "for nums, x in busquedas:\n",
        "    print(f\"Buscando {x} en {nums} => encontrado en la posición = {bin_search(nums, x)}\")\n"
      ]
    },
    {
      "cell_type": "markdown",
      "id": "1087c522",
      "metadata": {
        "id": "1087c522"
      },
      "source": [
        " Actividad: Comparación entre programación dinámica y la metodología divide y venceras.\n",
        "\n",
        "\n",
        "## Instrucciones\n",
        "\n",
        "\n",
        "1. Enumera las diferencias entre los dos efoques.\n",
        "\n",
        "2. Nombre algunos casos donde funcionam mejor la programación dinámica.\n",
        "\n",
        "3. Nombre ejemplos donde es suficiente usar el enfoque divide y venceras.\n",
        "\n",
        "\n",
        "\n",
        "**Espación para desarrollar la actividad:**\n",
        "\n",
        "\n",
        "\n",
        "\n",
        "\n",
        "\n",
        "\n",
        "\n",
        "\n",
        "\n"
      ]
    },
    {
      "cell_type": "code",
      "execution_count": null,
      "id": "7aacf433",
      "metadata": {
        "id": "7aacf433"
      },
      "outputs": [],
      "source": [
        "# 1.\n",
        "# Diferencias:\n",
        "# Enfoque Divide y venceras:\n",
        "#   - Descompone un problema en subproblemas independientes y los resuelve cada uno y combina resultados.\n",
        "#   - Menos eficiente si hay subproblemas repetidos.\n",
        "#   - Los subproblemas son independientes, no se reutilizan\n",
        "# Enfoque Programación Dinámica:\n",
        "#   - Almacena los subproblemas para evitar el solapamiento y no repetir subcálculos.\n",
        "#   - Más eficiente para subproblemas superpuestos (cuando se repiten varias veces).\n",
        "#   - Los subproblemas son dependientes, los mismos se usan varias veces.\n",
        "\n",
        "# 2.\n",
        "#   - Problemas de optimización\n",
        "#   - Problemas de secuencua o combinaciones\n",
        "#   - Problemas de fibonacci o conteo de rutas\n",
        "\n",
        "# 3.\n",
        "#   - Métodos de Búsqueda y ordenamiento\n",
        "#   - Problemas de máximo/mínimo\n",
        "#   - Problemas de multipliación o combinación de estructuras"
      ]
    }
  ],
  "metadata": {
    "colab": {
      "provenance": []
    },
    "kernelspec": {
      "display_name": "Python 3",
      "language": "python",
      "name": "python3"
    },
    "language_info": {
      "codemirror_mode": {
        "name": "ipython",
        "version": 3
      },
      "file_extension": ".py",
      "mimetype": "text/x-python",
      "name": "python",
      "nbconvert_exporter": "python",
      "pygments_lexer": "ipython3",
      "version": "3.13.7"
    }
  },
  "nbformat": 4,
  "nbformat_minor": 5
}
