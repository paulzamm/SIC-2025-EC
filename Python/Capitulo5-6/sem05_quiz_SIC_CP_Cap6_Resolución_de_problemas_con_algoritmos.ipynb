{
  "cells": [
    {
      "cell_type": "markdown",
      "id": "49909eb6",
      "metadata": {
        "id": "49909eb6"
      },
      "source": [
        "# Coding and Programming\n",
        "\n",
        "## Capítulo 6\n",
        "\n",
        "### Resolución de problemas con algoritmos\n",
        "\n",
        "- **Unidad 30.** Enfoque Greedy algoritmos voraces o ávidos.\n",
        "- **Unidad 31.** Divide y vencerás\n",
        "- **Unidad 32.** Programación dinámica\n",
        "- **Unidad 33.** Backtracking\n"
      ]
    },
    {
      "cell_type": "markdown",
      "id": "2e42031a",
      "metadata": {
        "id": "2e42031a"
      },
      "source": [
        "___"
      ]
    },
    {
      "cell_type": "markdown",
      "id": "780f0fff",
      "metadata": {
        "id": "780f0fff"
      },
      "source": [
        "## Q 30-01\n",
        "\n",
        "Este es el problema del intercambio de monedas.\n",
        "\n",
        "Tienes una moneda de 400 wones.\n",
        "\n",
        "Escriba el resultado de cómo el algoritmo `coin_change()` determina el cambio de la moneda de 800 wones.\n",
        "```\n",
        "coins  = [500, 400, 100, 50, 10]\n",
        "amount = int(input(\"Ingrese la cantidad: \"))\n",
        "changes= coin_change(coins, amount)\n",
        "print(changes, len(changes))\n",
        "\n",
        "Ingrese la cantidad: 800\n",
        "```"
      ]
    },
    {
      "cell_type": "markdown",
      "id": "8d0b8eb8",
      "metadata": {
        "id": "8d0b8eb8"
      },
      "source": []
    },
    {
      "cell_type": "markdown",
      "id": "ca15d3cf",
      "metadata": {
        "id": "ca15d3cf"
      },
      "source": [
        "___"
      ]
    },
    {
      "cell_type": "markdown",
      "id": "89395b47",
      "metadata": {
        "id": "89395b47"
      },
      "source": [
        "## Q 31-01\n",
        "\n",
        "Tienes 8 monedas idénticas numeradas del 1 al 8. De estas, solo una moneda es más pesada que la otra.\n",
        "\n",
        "Suponiendo que puede pesar monedas con una balanza equilibrada, diseñe un algoritmo que encuentre la moneda más pesada.\n",
        "\n",
        "En este momento, ¿cuántas veces se debe usar al menos la balanza?"
      ]
    },
    {
      "cell_type": "markdown",
      "id": "8d05fa5e",
      "metadata": {
        "id": "8d05fa5e"
      },
      "source": []
    },
    {
      "cell_type": "markdown",
      "id": "9c37e736",
      "metadata": {
        "id": "9c37e736"
      },
      "source": [
        "___"
      ]
    },
    {
      "cell_type": "markdown",
      "id": "6f047403",
      "metadata": {
        "id": "6f047403"
      },
      "source": [
        "## Q 31-02\n",
        "\n",
        "Hay nueve monedas idénticas numeradas del 1 al 9 en el problema anterior.\n",
        "\n",
        "Diseñe un algoritmo para encontrar una moneda pesada en este caso.\n",
        "\n",
        "En este momento, ¿cuántas veces se debe usar al menos la balanza?"
      ]
    },
    {
      "cell_type": "markdown",
      "id": "41e80a15",
      "metadata": {
        "id": "41e80a15"
      },
      "source": []
    },
    {
      "cell_type": "markdown",
      "id": "0453c475",
      "metadata": {
        "id": "0453c475"
      },
      "source": [
        "___"
      ]
    },
    {
      "cell_type": "markdown",
      "id": "881569fc",
      "metadata": {
        "id": "881569fc"
      },
      "source": [
        "## Q 32-01\n",
        "\n",
        "Analice el resultado de la ejecución del siguiente código y compárelo con el rendimiento de las funciones `fib1()`, `fib2()` y `fib3()`.\n",
        "```\n",
        "def fib4(n):\n",
        "    if n <= 1:\n",
        "        return n\n",
        "    else:\n",
        "        a,b = 0,1\n",
        "        for i in range(2, n + 1):\n",
        "            a,b = b,a+b\n",
        "        return b\n",
        "\n",
        "N = int(input(\"Ingrese un numero: \"))\n",
        "print(fib4(N))\n",
        "\n",
        "\n",
        "Ingrese un numero:\n",
        "```\n"
      ]
    },
    {
      "cell_type": "markdown",
      "id": "25354b5c",
      "metadata": {
        "id": "25354b5c"
      },
      "source": []
    },
    {
      "cell_type": "markdown",
      "id": "60d998bd",
      "metadata": {
        "id": "60d998bd"
      },
      "source": [
        "___"
      ]
    },
    {
      "cell_type": "markdown",
      "id": "1087c522",
      "metadata": {
        "id": "1087c522"
      },
      "source": [
        "## Q 32-02\n",
        "\n",
        "Analice el resultado de la ejecución del siguiente código y compárelo con el rendimiento de las funciones `bin1()` y `bin2()`.\n",
        "```\n",
        "def bin3(n, k):\n",
        "    B = [0] * (n + 1)\n",
        "    B[0] = 1\n",
        "    for i in range(1, n + 1):\n",
        "        for j in range(i, 0, -1):  \n",
        "            B[j] = B[j] + B[j-1]\n",
        "    return B[k]\n",
        "\n",
        "\n",
        "for i in range(10):\n",
        "    for j in range(i+1):\n",
        "        print(bin3(i, j), end=\" \")\n",
        "    print()\n",
        "\n",
        "```"
      ]
    },
    {
      "cell_type": "markdown",
      "id": "a0df2e98",
      "metadata": {
        "id": "a0df2e98"
      },
      "source": []
    },
    {
      "cell_type": "markdown",
      "id": "7cef2a44",
      "metadata": {
        "id": "7cef2a44"
      },
      "source": [
        "___"
      ]
    },
    {
      "cell_type": "markdown",
      "id": "d36e67d4",
      "metadata": {
        "id": "d36e67d4"
      },
      "source": [
        "## Q 33-01\n",
        "\n",
        "Si reemplaza cada letra con un número en la siguiente letra, el número correspondiente a las cinco palabras son todos cuadrados.\n",
        "\n",
        "Para cada palabra, la suma de cada dígito también es un número cuadrado.\n",
        "\n",
        "Encuentra el número representado por cada letra.\n",
        "\n",
        "**Código de referencia:**"
      ]
    },
    {
      "cell_type": "code",
      "execution_count": null,
      "id": "13991ae0",
      "metadata": {
        "id": "13991ae0"
      },
      "outputs": [],
      "source": [
        "from math import sqrt, floor\n",
        "import time\n",
        "\n",
        "def is_square_digitsum(n):\n",
        "    s = 0\n",
        "    while n > 0:\n",
        "        s += n % 10\n",
        "        n //= 10\n",
        "    return int(sqrt(s))**2 == s\n",
        "\n",
        "def find_all_squares():\n",
        "    sqrs = [[] for _ in range(5)]\n",
        "    for i in range(1, floor(sqrt(10 ** 5)) + 1):\n",
        "        n = i * i\n",
        "        if not is_square_digitsum(n):\n",
        "            continue\n",
        "        s = str(n)\n",
        "        if len(set(s)) != len(s):   # evitar repetidos\n",
        "            continue\n",
        "        sqrs[len(s) - 1].append(n)\n",
        "    return sqrs\n",
        "\n",
        "def promising(s, n, dic):\n",
        "    for i in range(len(s)):\n",
        "        digit = int(str(n)[i])\n",
        "        for key, value in dic.items():\n",
        "            if key == s[i] and value != digit:\n",
        "                return False\n",
        "            if value == digit and key != s[i]:\n",
        "                return False\n",
        "    return True\n",
        "\n",
        "def solve(words, dic, squares):\n",
        "    global solved\n",
        "    if len(words) == 0:\n",
        "        solved = dic\n",
        "    else:\n",
        "        s = words[0]\n",
        "        candidates = squares[len(s) - 1]\n",
        "        for n in candidates:\n",
        "            if promising(s, n, dic):\n",
        "                newdic = dic.copy()\n",
        "                for i in range(len(s)):\n",
        "                    newdic[s[i]] = int(str(n)[i])\n",
        "                solve(words[1:], newdic, squares)\n",
        "\n",
        "def main():\n",
        "    squares = find_all_squares()\n",
        "    words = ['A', 'TO', 'ALL', 'XMAS', 'MERRY']\n",
        "    dic = {}\n",
        "    solve(words, dic, squares)\n",
        "    for word in words:\n",
        "        print(word, end=\": \")\n",
        "        for c in word:\n",
        "            print(solved[c], end=\"\")\n",
        "        print()\n",
        "\n",
        "start = time.time()\n",
        "solved = {}\n",
        "main()\n",
        "end = time.time()\n",
        "print(\"Elapsed Time:\", end-start,\"seconds\")\n"
      ]
    },
    {
      "cell_type": "markdown",
      "id": "0a7153c2",
      "metadata": {
        "id": "0a7153c2"
      },
      "source": []
    },
    {
      "cell_type": "markdown",
      "id": "d31d23cb",
      "metadata": {
        "id": "d31d23cb"
      },
      "source": [
        "___"
      ]
    },
    {
      "cell_type": "markdown",
      "id": "c815e543",
      "metadata": {
        "id": "c815e543"
      },
      "source": [
        "# Fin"
      ]
    }
  ],
  "metadata": {
    "kernelspec": {
      "display_name": "Python 3 (ipykernel)",
      "language": "python",
      "name": "python3"
    },
    "language_info": {
      "codemirror_mode": {
        "name": "ipython",
        "version": 3
      },
      "file_extension": ".py",
      "mimetype": "text/x-python",
      "name": "python",
      "nbconvert_exporter": "python",
      "pygments_lexer": "ipython3",
      "version": "3.10.12"
    },
    "colab": {
      "provenance": []
    }
  },
  "nbformat": 4,
  "nbformat_minor": 5
}