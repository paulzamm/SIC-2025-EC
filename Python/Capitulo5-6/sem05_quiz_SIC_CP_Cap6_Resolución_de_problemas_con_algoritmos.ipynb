{
  "cells": [
    {
      "cell_type": "markdown",
      "id": "49909eb6",
      "metadata": {
        "id": "49909eb6"
      },
      "source": [
        "# Coding and Programming\n",
        "\n",
        "## Capítulo 6\n",
        "\n",
        "### Resolución de problemas con algoritmos\n",
        "\n",
        "- **Unidad 30.** Enfoque Greedy algoritmos voraces o ávidos.\n",
        "- **Unidad 31.** Divide y vencerás\n",
        "- **Unidad 32.** Programación dinámica\n",
        "- **Unidad 33.** Backtracking\n"
      ]
    },
    {
      "cell_type": "markdown",
      "id": "2e42031a",
      "metadata": {
        "id": "2e42031a"
      },
      "source": [
        "___"
      ]
    },
    {
      "cell_type": "markdown",
      "id": "780f0fff",
      "metadata": {
        "id": "780f0fff"
      },
      "source": [
        "## Q 30-01\n",
        "\n",
        "Este es el problema del intercambio de monedas.\n",
        "\n",
        "Tienes una moneda de 400 wones.\n",
        "\n",
        "Escriba el resultado de cómo el algoritmo `coin_change()` determina el cambio de la moneda de 800 wones.\n",
        "```\n",
        "coins  = [500, 400, 100, 50, 10]\n",
        "amount = int(input(\"Ingrese la cantidad: \"))\n",
        "changes= coin_change(coins, amount)\n",
        "print(changes, len(changes))\n",
        "\n",
        "Ingrese la cantidad: 800\n",
        "```"
      ]
    },
    {
      "cell_type": "markdown",
      "id": "8d0b8eb8",
      "metadata": {
        "id": "8d0b8eb8"
      },
      "source": [
        "{500: 1, 100: 3} 2"
      ]
    },
    {
      "cell_type": "code",
      "execution_count": 19,
      "id": "475331d8",
      "metadata": {},
      "outputs": [
        {
          "name": "stdout",
          "output_type": "stream",
          "text": [
            "{500: 1, 100: 3} 2\n"
          ]
        }
      ],
      "source": [
        "def coin_change(coins, amount):\n",
        "    coins.sort(reverse=True)\n",
        "    desglose = {}\n",
        "    \n",
        "    for coin in coins:\n",
        "        if amount >= coin:\n",
        "            num_monedas = amount // coin\n",
        "            desglose[coin] = num_monedas\n",
        "            amount %= coin\n",
        "    return desglose\n",
        "\n",
        "coins  = [500, 400, 100, 50, 10]\n",
        "amount = int(input(\"Ingrese la cantidad: \"))\n",
        "changes= coin_change(coins, amount)\n",
        "print(changes, len(changes))"
      ]
    },
    {
      "cell_type": "markdown",
      "id": "ca15d3cf",
      "metadata": {
        "id": "ca15d3cf"
      },
      "source": [
        "___"
      ]
    },
    {
      "cell_type": "markdown",
      "id": "89395b47",
      "metadata": {
        "id": "89395b47"
      },
      "source": [
        "## Q 31-01\n",
        "\n",
        "Tienes 8 monedas idénticas numeradas del 1 al 8. De estas, solo una moneda es más pesada que la otra.\n",
        "\n",
        "Suponiendo que puede pesar monedas con una balanza equilibrada, diseñe un algoritmo que encuentre la moneda más pesada.\n",
        "\n",
        "En este momento, ¿cuántas veces se debe usar al menos la balanza?"
      ]
    },
    {
      "cell_type": "markdown",
      "id": "8d05fa5e",
      "metadata": {
        "id": "8d05fa5e"
      },
      "source": [
        "Dividir en 2 grupos de 4 monedas, luego en 2 grupos de 2, para luego comparar las 2 restantes.\n",
        "\n",
        "**Esto requiere 3 usos mínimos de la balanza**"
      ]
    },
    {
      "cell_type": "code",
      "execution_count": 17,
      "id": "e6c5a858",
      "metadata": {},
      "outputs": [
        {
          "name": "stdout",
          "output_type": "stream",
          "text": [
            "Moneda más pesada: 8\n"
          ]
        }
      ],
      "source": [
        "def encontrar_mas_pesada_8(monedas):\n",
        "    if len(monedas) == 1:\n",
        "        return monedas[0]  # Solo queda una moneda\n",
        "    elif len(monedas) == 2:\n",
        "        # Comparamos las dos monedas\n",
        "        return monedas[0] if pesar([monedas[0]], [monedas[1]]) > 0 else monedas[1]\n",
        "    else:\n",
        "        mid = len(monedas) // 2\n",
        "        grupo1 = monedas[:mid]\n",
        "        grupo2 = monedas[mid:]\n",
        "        # Pesamos el primer grupo contra el segundo\n",
        "        if pesar(grupo1, grupo2) > 0:\n",
        "            return encontrar_mas_pesada_8(grupo1)\n",
        "        else:\n",
        "            return encontrar_mas_pesada_8(grupo2)\n",
        "\n",
        "def pesar(grupo1, grupo2):\n",
        "    \"\"\"Simular la balanza: devuelve > 0 si grupo1 es más pesado, < 0 si grupo2, 0 si igual\"\"\"\n",
        "    # Para el ejercicio, asumimos que la moneda 8 es más pesada con un peso de 1\n",
        "    peso_real = {1:0,2:0,3:0,4:0,5:0,6:0,7:0,8:1}\n",
        "    peso1 = sum(peso_real[m] for m in grupo1)\n",
        "    peso2 = sum(peso_real[m] for m in grupo2)\n",
        "    return peso1 - peso2\n",
        "\n",
        "monedas = [1,2,3,4,5,6,7,8]\n",
        "print(\"Moneda más pesada:\", encontrar_mas_pesada_8(monedas))\n"
      ]
    },
    {
      "cell_type": "markdown",
      "id": "9c37e736",
      "metadata": {
        "id": "9c37e736"
      },
      "source": [
        "___"
      ]
    },
    {
      "cell_type": "markdown",
      "id": "6f047403",
      "metadata": {
        "id": "6f047403"
      },
      "source": [
        "## Q 31-02\n",
        "\n",
        "Hay nueve monedas idénticas numeradas del 1 al 9 en el problema anterior.\n",
        "\n",
        "Diseñe un algoritmo para encontrar una moneda pesada en este caso.\n",
        "\n",
        "En este momento, ¿cuántas veces se debe usar al menos la balanza?"
      ]
    },
    {
      "cell_type": "markdown",
      "id": "41e80a15",
      "metadata": {
        "id": "41e80a15"
      },
      "source": [
        "Dividir en 3 grupos de 3 monedas, luego se pesa el grupo1 vs grupo2\n",
        "- Si un grupo es más pesado, la moneda pesada está ahí.\n",
        "- Si pesan igual, la moneda pesada está en grupo3.\n",
        "\n",
        "Ahora quedan 3 monedas, pesamos 2 de ellas:\n",
        "- Si una es más pesada, esa es la moneda buscada.\n",
        "- Si pesan igual, la moneda pesada es la que no se pesó.\n",
        "\n",
        "**Esto requiere 2-3 usos mínimos de la balanza en la cual va a depender de la distribución de la moneda pesada** "
      ]
    },
    {
      "cell_type": "code",
      "execution_count": 16,
      "id": "132e038b",
      "metadata": {},
      "outputs": [
        {
          "name": "stdout",
          "output_type": "stream",
          "text": [
            "Moneda más pesada: 4\n"
          ]
        }
      ],
      "source": [
        "def encontrar_mas_pesada_9(monedas):\n",
        "    if len(monedas) == 1:\n",
        "        return monedas[0]\n",
        "    elif len(monedas) == 2:\n",
        "        return monedas[0] if pesar(monedas[0], monedas[1]) > 0 else monedas[1]\n",
        "    elif len(monedas) == 3:\n",
        "        # Pesamos primera vs segunda\n",
        "        res = pesar([monedas[0]], [monedas[1]])\n",
        "        if res > 0:\n",
        "            return monedas[0]\n",
        "        elif res < 0:\n",
        "            return monedas[1]\n",
        "        else:\n",
        "            return monedas[2]  # Si el peso de primera vs segunda es igual, la más pesada es la tercera\n",
        "    else:\n",
        "        # Dividir en tres grupos\n",
        "        tercio = len(monedas) // 3\n",
        "        grupo1 = monedas[:tercio]\n",
        "        grupo2 = monedas[tercio:2*tercio]\n",
        "        grupo3 = monedas[2*tercio:]\n",
        "        res = pesar(grupo1, grupo2)\n",
        "        if res > 0:\n",
        "            return encontrar_mas_pesada_9(grupo1)\n",
        "        elif res < 0:\n",
        "            return encontrar_mas_pesada_9(grupo2)\n",
        "        else:\n",
        "            # Si el peso de grupo1 vs grupo2 es igual, la moneda más pesada se encuentra en el grupo 3\n",
        "            return encontrar_mas_pesada_9(grupo3) \n",
        "\n",
        "def pesar(grupo1, grupo2):\n",
        "    peso_real = {1:0,2:0,3:0,4:1,5:0,6:0,7:0,8:0,9:0}  # La moneda 4 es la más pesada\n",
        "    peso1 = sum(peso_real[m] for m in grupo1)\n",
        "    peso2 = sum(peso_real[m] for m in grupo2)\n",
        "    return peso1 - peso2\n",
        "\n",
        "monedas = [1,2,3,4,5,6,7,8,9]\n",
        "print(\"Moneda más pesada:\", encontrar_mas_pesada_9(monedas))\n"
      ]
    },
    {
      "cell_type": "markdown",
      "id": "0453c475",
      "metadata": {
        "id": "0453c475"
      },
      "source": [
        "___"
      ]
    },
    {
      "cell_type": "markdown",
      "id": "881569fc",
      "metadata": {
        "id": "881569fc"
      },
      "source": [
        "## Q 32-01\n",
        "\n",
        "Analice el resultado de la ejecución del siguiente código y compárelo con el rendimiento de las funciones `fib1()`, `fib2()` y `fib3()`.\n",
        "```\n",
        "def fib4(n):\n",
        "    if n <= 1:\n",
        "        return n\n",
        "    else:\n",
        "        a,b = 0,1\n",
        "        for i in range(2, n + 1):\n",
        "            a,b = b,a+b\n",
        "        return b\n",
        "\n",
        "N = int(input(\"Ingrese un numero: \"))\n",
        "print(fib4(N))\n",
        "\n",
        "\n",
        "Ingrese un numero:\n",
        "```\n"
      ]
    },
    {
      "cell_type": "markdown",
      "id": "25354b5c",
      "metadata": {
        "id": "25354b5c"
      },
      "source": [
        "- fib1() -> Recursión simple: muy ineficiente (O(2^n)), recalcula valores muchas veces.\n",
        "- fib2() -> Recursión con memorización: eficiente (O(n)), guarda resultados en diccionario.\n",
        "- fib3() -> Programación dinámica con tabla: eficiente (O(n)), usa almacenamiento previo.\n",
        "- fib4() -> Iterativo: el más rápido (O(n)) y con uso mínimo de memoria (O(1))."
      ]
    },
    {
      "cell_type": "code",
      "execution_count": 1,
      "id": "420a280b",
      "metadata": {},
      "outputs": [
        {
          "name": "stdout",
          "output_type": "stream",
          "text": [
            "8\n",
            "---Comparación de Rendimiento---\n",
            "fib1() -> 3.8623809814453125e-05 seg\n",
            "fib2() -> 2.956390380859375e-05 seg\n",
            "fib3() -> 2.5272369384765625e-05 seg\n",
            "fib4() -> 2.3603439331054688e-05 seg\n"
          ]
        }
      ],
      "source": [
        "import time \n",
        "\n",
        "def fib1(n):\n",
        "    if n == 0 or n == 1:\n",
        "        return n\n",
        "    else:\n",
        "        return fib1(n - 1) + fib1(n - 2)\n",
        "\n",
        "F = { 0: 0, 1: 1 }\n",
        "def fib2(n):\n",
        "    if n in F:\n",
        "        return F[n]\n",
        "    else:\n",
        "        F[n] = fib2(n - 1) + fib2(n - 2)\n",
        "        return F[n]\n",
        "\n",
        "def fib3(F, n):\n",
        "    if n <= 1:\n",
        "        return F[n]\n",
        "    else:\n",
        "        if F[n] < 0:\n",
        "            F[n] = fib3(F, n -1) + fib3(F, n - 2)\n",
        "        return F[n]\n",
        "\n",
        "\n",
        "def fib4(n):\n",
        "    if n <= 1:\n",
        "        return n\n",
        "    else:\n",
        "        a,b = 0,1\n",
        "        for i in range(2, n + 1):\n",
        "            a,b = b,a+b\n",
        "        return b\n",
        "\n",
        "N = int(input(\"Ingrese un numero: \"))\n",
        "print(fib4(N))\n",
        "\n",
        "inicio = time.time()\n",
        "fib1(N)\n",
        "fin = time.time()\n",
        "resultado_fib1 = fin - inicio\n",
        "\n",
        "inicio = time.time()\n",
        "fib2(N)\n",
        "fin = time.time()\n",
        "resultado_fib2 = fin - inicio\n",
        "\n",
        "inicio = time.time()\n",
        "fib3(F, N)\n",
        "fin = time.time()\n",
        "resultado_fib3 = fin - inicio\n",
        "\n",
        "inicio = time.time()\n",
        "fib4(N)\n",
        "fin = time.time()\n",
        "resultado_fib4 = fin - inicio\n",
        "\n",
        "print(\"---Comparación de Rendimiento---\")\n",
        "print(f\"fib1() -> {resultado_fib1} seg\")\n",
        "print(f\"fib2() -> {resultado_fib2} seg\")\n",
        "print(f\"fib3() -> {resultado_fib3:} seg\")\n",
        "print(f\"fib4() -> {resultado_fib4:} seg\")\n"
      ]
    },
    {
      "cell_type": "markdown",
      "id": "60d998bd",
      "metadata": {
        "id": "60d998bd"
      },
      "source": [
        "___"
      ]
    },
    {
      "cell_type": "markdown",
      "id": "1087c522",
      "metadata": {
        "id": "1087c522"
      },
      "source": [
        "## Q 32-02\n",
        "\n",
        "Analice el resultado de la ejecución del siguiente código y compárelo con el rendimiento de las funciones `bin1()` y `bin2()`.\n",
        "```\n",
        "def bin3(n, k):\n",
        "    B = [0] * (n + 1)\n",
        "    B[0] = 1\n",
        "    for i in range(1, n + 1):\n",
        "        for j in range(i, 0, -1):  \n",
        "            B[j] = B[j] + B[j-1]\n",
        "    return B[k]\n",
        "\n",
        "\n",
        "for i in range(10):\n",
        "    for j in range(i+1):\n",
        "        print(bin3(i, j), end=\" \")\n",
        "    print()\n",
        "\n",
        "```"
      ]
    },
    {
      "cell_type": "markdown",
      "id": "a0df2e98",
      "metadata": {
        "id": "a0df2e98"
      },
      "source": [
        "Para valores pequeños, las tres parecen rápidas.\n",
        "\n",
        "- Cuando n crece, la diferencia es enorme:\n",
        "    - bin1 se vuelve impráctico.\n",
        "    - bin2 y bin3 escalan mucho mejor, siendo bin3 la versión más optimizada en memoria."
      ]
    },
    {
      "cell_type": "code",
      "execution_count": 30,
      "id": "0e928ad1",
      "metadata": {},
      "outputs": [
        {
          "name": "stdout",
          "output_type": "stream",
          "text": [
            "1 \n",
            "1 1 \n",
            "1 2 1 \n",
            "1 3 3 1 \n",
            "1 4 6 4 1 \n",
            "1 5 10 10 5 1 \n",
            "1 6 15 20 15 6 1 \n",
            "1 7 21 35 35 21 7 1 \n",
            "1 8 28 56 70 56 28 8 1 \n",
            "1 9 36 84 126 126 84 36 9 1 \n",
            "1 \n",
            "1 1 \n",
            "1 2 1 \n",
            "1 3 3 1 \n",
            "1 4 6 4 1 \n",
            "1 5 10 10 5 1 \n",
            "1 6 15 20 15 6 1 \n",
            "1 7 21 35 35 21 7 1 \n",
            "1 8 28 56 70 56 28 8 1 \n",
            "1 9 36 84 126 126 84 36 9 1 \n",
            "1 \n",
            "1 1 \n",
            "1 2 1 \n",
            "1 3 3 1 \n",
            "1 4 6 4 1 \n",
            "1 5 10 10 5 1 \n",
            "1 6 15 20 15 6 1 \n",
            "1 7 21 35 35 21 7 1 \n",
            "1 8 28 56 70 56 28 8 1 \n",
            "1 9 36 84 126 126 84 36 9 1 \n",
            "\n",
            "---Comparación de Rendimiento---\n",
            "bin1() -> 0.0010089874267578125 seg\n",
            "bin2() -> 0.000606536865234375 seg\n",
            "bin3() -> 0.0007190704345703125 seg\n"
          ]
        }
      ],
      "source": [
        "def bin1(n, k):\n",
        "    if k == 0 or n == k:\n",
        "        return 1\n",
        "    else:\n",
        "        return bin1(n - 1, k - 1) + bin1(n - 1, k)\n",
        "\n",
        "def bin2(n, k):\n",
        "    B = [[0] * (i + 1) for i in range(n + 1)]\n",
        "    for i in range(n + 1):\n",
        "        for j in range(i + 1):\n",
        "            if j == 0 or j == i:\n",
        "                B[i][j] = 1\n",
        "            else:\n",
        "                B[i][j] = B[i - 1][j - 1] + B[i - 1][j]\n",
        "    return B[n][k]\n",
        "\n",
        "def bin3(n, k):\n",
        "    B = [0] * (n + 1)\n",
        "    B[0] = 1\n",
        "    for i in range(1, n + 1):\n",
        "        for j in range(i, 0, -1):  \n",
        "            B[j] = B[j] + B[j-1]\n",
        "    return B[k]\n",
        "\n",
        "inicio = time.time()\n",
        "for i in range(10):\n",
        "    for j in range(i+1):\n",
        "        print(bin1(i, j), end=\" \")\n",
        "    print()\n",
        "fin = time.time()\n",
        "resultado_bin1 = fin - inicio\n",
        "\n",
        "inicio = time.time()\n",
        "for i in range(10):\n",
        "    for j in range(i+1):\n",
        "        print(bin2(i, j), end=\" \")\n",
        "    print()\n",
        "fin = time.time()\n",
        "resultado_bin2 = fin - inicio\n",
        "\n",
        "inicio = time.time()\n",
        "for i in range(10):\n",
        "    for j in range(i+1):\n",
        "        print(bin3(i, j), end=\" \")\n",
        "    print()\n",
        "fin = time.time()\n",
        "resultado_bin3 = fin - inicio\n",
        "\n",
        "print(\"\\n---Comparación de Rendimiento---\")\n",
        "print(f\"bin1() -> {resultado_bin1} seg\")\n",
        "print(f\"bin2() -> {resultado_bin2} seg\")\n",
        "print(f\"bin3() -> {resultado_bin3} seg\")"
      ]
    },
    {
      "cell_type": "markdown",
      "id": "7cef2a44",
      "metadata": {
        "id": "7cef2a44"
      },
      "source": [
        "___"
      ]
    },
    {
      "cell_type": "markdown",
      "id": "d36e67d4",
      "metadata": {
        "id": "d36e67d4"
      },
      "source": [
        "## Q 33-01\n",
        "\n",
        "Si reemplaza cada letra con un número en la siguiente letra, el número correspondiente a las cinco palabras son todos cuadrados.\n",
        "\n",
        "Para cada palabra, la suma de cada dígito también es un número cuadrado.\n",
        "\n",
        "Encuentra el número representado por cada letra.\n",
        "\n",
        "**Código de referencia:**"
      ]
    },
    {
      "cell_type": "code",
      "execution_count": null,
      "id": "13991ae0",
      "metadata": {
        "id": "13991ae0"
      },
      "outputs": [],
      "source": [
        "from math import sqrt, floor\n",
        "import time\n",
        "\n",
        "def is_square_digitsum(n):\n",
        "    s = 0\n",
        "    while n > 0:\n",
        "        s += n % 10\n",
        "        n //= 10\n",
        "    return int(sqrt(s))**2 == s\n",
        "\n",
        "def find_all_squares():\n",
        "    sqrs = [[] for _ in range(5)]\n",
        "    for i in range(1, floor(sqrt(10 ** 5)) + 1):\n",
        "        n = i * i\n",
        "        if not is_square_digitsum(n):\n",
        "            continue\n",
        "        s = str(n)\n",
        "        if len(set(s)) != len(s):   # evitar repetidos\n",
        "            continue\n",
        "        sqrs[len(s) - 1].append(n)\n",
        "    return sqrs\n",
        "\n",
        "def promising(s, n, dic):\n",
        "    for i in range(len(s)):\n",
        "        digit = int(str(n)[i])\n",
        "        for key, value in dic.items():\n",
        "            if key == s[i] and value != digit:\n",
        "                return False\n",
        "            if value == digit and key != s[i]:\n",
        "                return False\n",
        "    return True\n",
        "\n",
        "def solve(words, dic, squares):\n",
        "    global solved\n",
        "    if len(words) == 0:\n",
        "        solved = dic\n",
        "    else:\n",
        "        s = words[0]\n",
        "        candidates = squares[len(s) - 1]\n",
        "        for n in candidates:\n",
        "            if promising(s, n, dic):\n",
        "                newdic = dic.copy()\n",
        "                for i in range(len(s)):\n",
        "                    newdic[s[i]] = int(str(n)[i])\n",
        "                solve(words[1:], newdic, squares)\n",
        "\n",
        "def main():\n",
        "    squares = find_all_squares()\n",
        "    words = ['A', 'TO', 'ALL', 'XMAS', 'MERRY']\n",
        "    dic = {}\n",
        "    solve(words, dic, squares)\n",
        "    for word in words:\n",
        "        print(word, end=\": \")\n",
        "        for c in word:\n",
        "            print(solved[c], end=\"\")\n",
        "        print()\n",
        "\n",
        "start = time.time()\n",
        "solved = {}\n",
        "main()\n",
        "end = time.time()\n",
        "print(\"Elapsed Time:\", end-start,\"seconds\")"
      ]
    },
    {
      "cell_type": "markdown",
      "id": "0a7153c2",
      "metadata": {
        "id": "0a7153c2"
      },
      "source": [
        "Solución:\n",
        "\n",
        "A     : 9\n",
        "\n",
        "\n",
        "TO    : 81\n",
        "\n",
        "\n",
        "ALL   : 900\n",
        "\n",
        "\n",
        "XMAS  : 7396\n",
        "\n",
        "\n",
        "MERRY : 34225"
      ]
    },
    {
      "cell_type": "code",
      "execution_count": 16,
      "id": "1f49909b",
      "metadata": {},
      "outputs": [
        {
          "name": "stdout",
          "output_type": "stream",
          "text": [
            "Solución encontrada:\n",
            "A     : 9\n",
            "TO    : 81\n",
            "ALL   : 900\n",
            "XMAS  : 7396\n",
            "MERRY : 34225\n",
            "\n",
            "Mapeo letra => dígito:\n",
            "A = 9\n",
            "E = 4\n",
            "L = 0\n",
            "M = 3\n",
            "O = 1\n",
            "R = 2\n",
            "S = 6\n",
            "T = 8\n",
            "X = 7\n",
            "Y = 5\n"
          ]
        }
      ],
      "source": [
        "from math import sqrt\n",
        "\n",
        "def is_square_digitsum(n):\n",
        "    \"\"\" Devuelve True si la suma de los dígitos de n es un cuadrado perfecto. \"\"\"\n",
        "    s = sum(int(d) for d in str(n))\n",
        "    r = int(sqrt(s))\n",
        "    return r * r == s\n",
        "\n",
        "def generar_cuadrados():\n",
        "    \"\"\" Genera todos los números cuadrados de hasta 5 dígitos cuya suma de dígitos también es un cuadrado perfecto.\n",
        "        Los agrupa en un diccionario según la cantidad de dígitos.\"\"\"\n",
        "    cuadrados = {d: [] for d in range(1, 6)}\n",
        "    for i in range(1, 317):\n",
        "        n = i * i\n",
        "        if is_square_digitsum(n):\n",
        "            cuadrados[len(str(n))].append(str(n))\n",
        "    return cuadrados\n",
        "\n",
        "def es_prometedor(palabra, numero, mapping):\n",
        "    \"\"\" Verifica si la asignación de letras a dígitos es consistente con el mapeo actual. \"\"\"\n",
        "    for c, d in zip(palabra, numero):\n",
        "        if c in mapping and mapping[c] != d:\n",
        "            return False  # La letra ya está asignada a otro dígito\n",
        "        if d in mapping.values() and c not in mapping:\n",
        "            return False  # El dígito ya está asignado a otra letra\n",
        "    return True\n",
        "\n",
        "def backtrack(words, cuadrados, mapping, asignaciones):\n",
        "    \"\"\" Intenta asignar números cuadrados a las palabras y letras a dígitos usando backtracking. \"\"\"\n",
        "    if not words:\n",
        "        # Si se usan los 10 dígitos exactamente, se encontró una solución\n",
        "        if len(mapping) == 10 and set(mapping.values()) == set(\"0123456789\"):\n",
        "            return asignaciones, mapping\n",
        "        return None\n",
        "\n",
        "    palabra = words[0]\n",
        "    for candidato in cuadrados[len(palabra)]:\n",
        "        if es_prometedor(palabra, candidato, mapping):\n",
        "            nuevo_mapping = mapping.copy()\n",
        "            for c, d in zip(palabra, candidato):\n",
        "                nuevo_mapping[c] = d\n",
        "            nueva_asig = asignaciones.copy()\n",
        "            nueva_asig[palabra] = candidato\n",
        "            res = backtrack(words[1:], cuadrados, nuevo_mapping, nueva_asig)\n",
        "            if res:\n",
        "                return res\n",
        "    return None\n",
        "\n",
        "def resolver():\n",
        "    cuadrados = generar_cuadrados()\n",
        "    palabras = [\"A\", \"TO\", \"ALL\", \"XMAS\", \"MERRY\"]\n",
        "    return backtrack(palabras, cuadrados, {}, {})\n",
        "\n",
        "solucion, mapeo = resolver()\n",
        "\n",
        "print(\"Solución encontrada:\")\n",
        "for palabra, numero in solucion.items():\n",
        "    print(f\"{palabra:5} : {numero}\")\n",
        "\n",
        "print(\"\\nMapeo letra => dígito:\")\n",
        "for letra, digito in sorted(mapeo.items()):\n",
        "    print(f\"{letra} = {digito}\")\n"
      ]
    },
    {
      "cell_type": "markdown",
      "id": "d31d23cb",
      "metadata": {
        "id": "d31d23cb"
      },
      "source": [
        "___"
      ]
    },
    {
      "cell_type": "markdown",
      "id": "c815e543",
      "metadata": {
        "id": "c815e543"
      },
      "source": [
        "# Fin"
      ]
    }
  ],
  "metadata": {
    "colab": {
      "provenance": []
    },
    "kernelspec": {
      "display_name": "Python 3",
      "language": "python",
      "name": "python3"
    },
    "language_info": {
      "codemirror_mode": {
        "name": "ipython",
        "version": 3
      },
      "file_extension": ".py",
      "mimetype": "text/x-python",
      "name": "python",
      "nbconvert_exporter": "python",
      "pygments_lexer": "ipython3",
      "version": "3.13.7"
    }
  },
  "nbformat": 4,
  "nbformat_minor": 5
}
