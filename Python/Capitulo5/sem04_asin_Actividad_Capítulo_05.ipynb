{
 "cells": [
  {
   "cell_type": "markdown",
   "id": "5ad8356f",
   "metadata": {},
   "source": [
    "# Actividades Capítulo 5.\n",
    "\n",
    "\n",
    "# Algoritmos de clasificación.\n",
    "\n",
    "## Resumen de actividades\n",
    "\n",
    "\n",
    "- **Unidad 27.** Ordenamiento de burbuja, (Bubble Sort) algoritmo de ordenamiento, selección e inserción\n",
    "- **Unidad 28.** Ordenar por selección, ordenamiento por inserción.\n",
    "- **Unidad 29.** Clasificación rápida\n"
   ]
  },
  {
   "cell_type": "markdown",
   "id": "8c5aa9c8",
   "metadata": {},
   "source": [
    "# Actividad: Ordenamiento de Burbuja\n",
    "\n",
    "\n",
    "## Instrucciones\n",
    "\n",
    "1. Explique brevemente y en forma clara cómo funciona el algoritmo de ordenamiento de burbuja.\n",
    "\n",
    "2. Desarrollo un función donde se use el ordenamiento de burbuja aplicada a una lista de valores enteros.\n",
    "\n"
   ]
  },
  {
   "cell_type": "code",
   "execution_count": 3,
   "id": "90cd2e33",
   "metadata": {},
   "outputs": [
    {
     "name": "stdout",
     "output_type": "stream",
     "text": [
      "Lista original: [50, 20, 15, 5, 60, 7, 8, 9, 10]\n",
      "Lista ordenada: [5, 7, 8, 9, 10, 15, 20, 50, 60]\n"
     ]
    }
   ],
   "source": [
    "# Espacio para desarrollar el código requerido, recuerde agregar algunos\n",
    "# comentarios breves sobre su funcionamiento.\n",
    "\n",
    "# 1.\n",
    "# El algoritmo de ordenamiento burbuja (bubble sort) funciona comparando pares\n",
    "# adyacentes de elementos en una lista y los intercambia si están en el orden\n",
    "# incorrecto. Este proceso se repite hasta que la lista está ordenada.\n",
    "\n",
    "# 2.\n",
    "def burbble_sort(lista: list):\n",
    "    \"\"\" Ordena una lista de números utilizando el algoritmo de burbuja.\"\"\"\n",
    "    n = len(lista)  # Longitud de la lista\n",
    "    lista_copia = lista.copy()  # Crear una copia para no modificar la original\n",
    "    \n",
    "    for i in range(n):  # Recorrer toda la lista\n",
    "        for j in range(0, n - i - 1):  # Recorrer la lista comparando pares adyacentes\n",
    "            if lista_copia[j] > lista_copia[j + 1]:  # Comparar elemento actual con el siguiente\n",
    "                # Intercambiar si están en el orden incorrecto\n",
    "                lista_copia[j], lista_copia[j + 1] = lista_copia[j + 1], lista_copia[j]\n",
    "    return lista_copia  # Devolver la lista ordenada\n",
    "\n",
    "numeros = [ 50, 20, 15, 5, 60, 7, 8, 9, 10]\n",
    "numeros_ordenados = burbble_sort(numeros)\n",
    "\n",
    "print(f'Lista original: {numeros}')\n",
    "print(f'Lista ordenada: {numeros_ordenados}')"
   ]
  },
  {
   "cell_type": "markdown",
   "id": "a11871f3",
   "metadata": {},
   "source": [
    "# Actividad: Función Swap.\n",
    "\n",
    "1. Escriba una función que permita el intercambion de elementos en una lista.\n",
    "2. Los argumentos de esta función serán, la lista y los indices de los elementos que se desean intercambiar.\n",
    "3. En la siguiente celda desarrollo el código requerido, recuerde agregar comentarias breves que expliquen su funcionamiento.\n"
   ]
  },
  {
   "cell_type": "code",
   "execution_count": null,
   "id": "1e7a5371",
   "metadata": {},
   "outputs": [
    {
     "name": "stdout",
     "output_type": "stream",
     "text": [
      "Lista original: [50, 20, 15, 5, 60, 7, 8, 9, 10]\n",
      "Lista con elementos intercambiados: [50, 20, 15, 60, 5, 7, 8, 9, 10]\n"
     ]
    }
   ],
   "source": [
    "# Espacio para desarrollar la actividad, si tienes alguna duda o comentario adicional\n",
    "# lo puedes dejar planteado acá.\n",
    "\n",
    "def swap(lista: list, i, j):\n",
    "    \"\"\" Intercambia los elementos en las posiciones i y j de la lista.\"\"\"\n",
    "    lista[i], lista[j] = lista[j], lista[i]\n",
    "\n",
    "\n",
    "numeros = [ 50, 20, 15, 5, 60, 7, 8, 9, 10]\n",
    "\n",
    "print(f'Lista original: {numeros}')\n",
    "swap(numeros, 3, 4)  # Intercambiar elementos en las posiciones 3 y 4\n",
    "print(f'Lista con elementos intercambiados: {numeros}')"
   ]
  },
  {
   "cell_type": "markdown",
   "id": "a207d974",
   "metadata": {},
   "source": [
    "\n",
    "# Actividad: \n",
    "\n",
    "1. Explique brevemente el funcionamiento del algoritmo Quick Sort.\n",
    "2. Desarrollo el código para implementar el algoritmo Quick Sort.\n",
    "3. Revise las unidad 29, sección 1.1"
   ]
  },
  {
   "cell_type": "code",
   "execution_count": null,
   "id": "a4f925a4",
   "metadata": {},
   "outputs": [
    {
     "name": "stdout",
     "output_type": "stream",
     "text": [
      "Lista original: [50, 20, 15, 5, 60, 7, 8, 9, 10]\n",
      "Lista ordenada: [5, 7, 8, 9, 10, 15, 20, 50, 60]\n"
     ]
    }
   ],
   "source": [
    "# Celda para desarrollar \n",
    "\n",
    "# 1.\n",
    "# El algoritmo quick sort (ordenamiento rápido) funciona seleccionando un 'pivote' y particionando\n",
    "# la lista en dos sublistas: los elementos menores que el pivote y los elementos\n",
    "# mayores que el pivote. Luego, se aplica recursivamente el mismo proceso a las\n",
    "# sublistas hasta que la lista está ordenada.\n",
    "\n",
    "def particion(lista: list, low, high):\n",
    "    pivote = lista[low] # Elegir el primer elemento como pivote\n",
    "    left = low + 1  # Índice del primer elemento después del pivote\n",
    "    right = high    # Índice del último elemento de la lista\n",
    "\n",
    "    while True: # Bucle que seguirá hasta que los índices (left, right) se crucen\n",
    "        while left <= right and lista[left] <= pivote: # Mover el índice left hacia la derecha, hasta llegar a un elemento mayor que el pivote\n",
    "            left += 1 \n",
    "        while left <= right and lista[right] >= pivote: # Mover el índice right hacia la izquierda, hasta llegar a un elemento menor que el pivote\n",
    "            right -= 1\n",
    "\n",
    "        if left <= right: # Si left todavia está a la izquierda de right, intercambiar los elementos\n",
    "            lista[left], lista[right] = lista[right], lista[left]  # Intercambia el mayor a la derecha y el menor a la izquierda\n",
    "        else:\n",
    "            break # Salir del bucle si los índices se han cruzado\n",
    "    lista[low], lista[right] = lista[right], lista[low] # Intercambiar el pivote con el elemento en la posición right\n",
    "    return right # Devolver la posición del pivote\n",
    "\n",
    "def quick_sort(lista: list, low, high):\n",
    "    # Caso base\n",
    "    if low < high:  # Solo ordena si la sublista tiene más de un elemento\n",
    "        pi = particion(lista, low, high) # Particionar la lista y obtener el índice del pivote\n",
    "        quick_sort(lista, low, pi - 1)   # Ordenar la sublista izquierda recursivamente\n",
    "        quick_sort(lista, pi + 1, high)  # Ordenar la sublista derecha recursivamente\n",
    "\n",
    "lista = [ 50, 20, 15, 5, 60, 7, 8, 9, 10]\n",
    "print(f'Lista original: {lista}')\n",
    "quick_sort(lista, 0, len(lista) - 1)\n",
    "print(f'Lista ordenada: {lista}')\n"
   ]
  },
  {
   "cell_type": "markdown",
   "id": "26a6bb9e",
   "metadata": {},
   "source": [
    "# Actividad: Quick Sort usando un valor de pivote aleatorio.\n",
    "\n",
    "1. Explique brevemente el funcionamiento del algoritmo Quick Sort en la modaladidad de usar un valor de pivote aleatorio.\n",
    "2. Comente las ventajas de esta variación.\n",
    "3. Desarrollo el código necesarion para este algoritmo.\n",
    "4. Agregue comentarios sobre su funcionamiento.\n",
    "\n"
   ]
  },
  {
   "cell_type": "code",
   "execution_count": 17,
   "id": "6670eace",
   "metadata": {},
   "outputs": [
    {
     "name": "stdout",
     "output_type": "stream",
     "text": [
      "Lista original: [50, 20, 15, 5, 60, 7, 8, 9, 10]\n",
      "Lista ordenada: [5, 7, 8, 9, 10, 15, 20, 50, 60]\n"
     ]
    }
   ],
   "source": [
    "# Espacio para desarrollar el código siguiendo las instrucciones.\n",
    "\n",
    "# 1.\n",
    "# El algoritmo quick sort (ordenamiento rápido) funciona igual que el quick sort tradicional,\n",
    "# pero en lugar de elegir siempre el primer o último elemento como pivote, se selecciona\n",
    "# un elemento aleatorio de la lista como pivote.\n",
    "\n",
    "# 2.\n",
    "# Ventajas:\n",
    "# - Mejora el rendimiento promedio, ya que reduce la probabilidad de obtener particiones desbalanceadas.\n",
    "# - Evita el peor caso frecuente cuando la lista ya está ordenada o casi ordenada.\n",
    "# - Hace que el algoritmo sea más robusto frente a diferentes tipos de datos.\n",
    "\n",
    "# 3 y 4.\n",
    "\n",
    "import random\n",
    "\n",
    "def particion(lista: list, low, high):\n",
    "    # Elegir un pivote aleatorio\n",
    "    pivote_idx = random.randint(low, high) # Índice aleatorio entre low y high\n",
    "    lista[low], lista[pivote_idx] = lista[pivote_idx], lista[low] # Mover el pivote al inicio\n",
    "    pivote = lista[low] # Elegir el primer elemento como pivote\n",
    "    \n",
    "    left = low + 1  # Índice del primer elemento después del pivote\n",
    "    right = high    # Índice del último elemento de la lista\n",
    "\n",
    "    while True: # Bucle que seguirá hasta que los índices (left, right) se crucen\n",
    "        while left <= right and lista[left] <= pivote: # Mover el índice left hacia la derecha, hasta llegar a un elemento mayor que el pivote\n",
    "            left += 1 \n",
    "        while left <= right and lista[right] >= pivote: # Mover el índice right hacia la izquierda, hasta llegar a un elemento menor que el pivote\n",
    "            right -= 1\n",
    "\n",
    "        if left <= right: # Si left todavia está a la izquierda de right, intercambiar los elementos\n",
    "            lista[left], lista[right] = lista[right], lista[left]  # Intercambia el mayor a la derecha y el menor a la izquierda\n",
    "        else:\n",
    "            break # Salir del bucle si los índices se han cruzado\n",
    "    lista[low], lista[right] = lista[right], lista[low] # Colocar el pivote en su posición correcta\n",
    "    return right # Devolver la posición del pivote\n",
    "\n",
    "def quick_sort(lista: list, low, high):\n",
    "    # Caso base\n",
    "    if low < high:  # Solo ordena si la sublista tiene más de un elemento\n",
    "        pi = particion(lista, low, high) # Particionar la lista y obtener el índice del pivote\n",
    "        quick_sort(lista, low, pi - 1)   # Ordenar la sublista izquierda recursivamente\n",
    "        quick_sort(lista, pi + 1, high)  # Ordenar la sublista derecha recursivamente\n",
    "\n",
    "lista = [ 50, 20, 15, 5, 60, 7, 8, 9, 10]\n",
    "print(f'Lista original: {lista}')\n",
    "quick_sort(lista, 0, len(lista) - 1)\n",
    "print(f'Lista ordenada: {lista}')\n"
   ]
  }
 ],
 "metadata": {
  "kernelspec": {
   "display_name": "Python 3",
   "language": "python",
   "name": "python3"
  },
  "language_info": {
   "codemirror_mode": {
    "name": "ipython",
    "version": 3
   },
   "file_extension": ".py",
   "mimetype": "text/x-python",
   "name": "python",
   "nbconvert_exporter": "python",
   "pygments_lexer": "ipython3",
   "version": "3.13.7"
  }
 },
 "nbformat": 4,
 "nbformat_minor": 5
}
