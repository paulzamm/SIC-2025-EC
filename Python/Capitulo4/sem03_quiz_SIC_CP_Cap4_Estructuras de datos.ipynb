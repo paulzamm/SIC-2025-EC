{
 "cells": [
  {
   "cell_type": "markdown",
   "id": "5d671b98",
   "metadata": {
    "id": "5d671b98"
   },
   "source": [
    "# Coding and Programming\n",
    "\n",
    "## Capítulo 4\n",
    "\n",
    "### Estructuras de Datos\n",
    "\n",
    "- **Unidad 17.** Pila\n",
    "- **Unidad 18.** Cola\n",
    "- **Unidad 19.** Búsqueda Binaria\n",
    "- **Unidad 20.** Tabla Hash\n",
    "\n",
    "# Quiz 4"
   ]
  },
  {
   "cell_type": "markdown",
   "id": "2e42031a",
   "metadata": {
    "id": "2e42031a"
   },
   "source": [
    "___"
   ]
  },
  {
   "cell_type": "markdown",
   "id": "33866775",
   "metadata": {
    "id": "33866775"
   },
   "source": [
    "## Q 22-01\n",
    "\n",
    "La siguiente es la implantación de una pila. ¿Cuál será el resultado del siguiente código?\n",
    "\n",
    "```\n",
    "stack = Stack()\n",
    "stack.push(\"Banana\")\n",
    "stack.push(\"Apple\")\n",
    "stack.push(\"Tomato\")\n",
    "stack.pop()\n",
    "stack.push(\"Strawberry\")\n",
    "stack.push(\"Grapes\")\n",
    "stack.pop()\n",
    "print(stack.stack)\n",
    "```\n",
    "\n",
    "**Respuesta:**"
   ]
  },
  {
   "cell_type": "markdown",
   "id": "e0HBC9BrYAcb",
   "metadata": {
    "id": "e0HBC9BrYAcb"
   },
   "source": [
    "['Banana', 'Apple', 'Strawberry']\n"
   ]
  },
  {
   "cell_type": "markdown",
   "id": "2dbba0e2",
   "metadata": {
    "id": "2dbba0e2"
   },
   "source": [
    "___"
   ]
  },
  {
   "cell_type": "markdown",
   "id": "8d8ca892",
   "metadata": {
    "id": "8d8ca892"
   },
   "source": [
    "## Q 22-02\n",
    "\n",
    "La siguiente es la implantación de una pila. ¿Cuál será el resultado del siguiente código?\n",
    "\n",
    "```\n",
    "stack = Stack()\n",
    "items = [10 * i for i in range(1,10)]\n",
    "for item in items:\n",
    "    stack.push(item)\n",
    "    if (item // 10) % 2 == 0:\n",
    "        stack.pop()\n",
    "print(stack.stack)\n",
    "```\n",
    "\n",
    "**Respuesta:**"
   ]
  },
  {
   "cell_type": "markdown",
   "id": "nbb-eDfdX6wX",
   "metadata": {
    "id": "nbb-eDfdX6wX"
   },
   "source": [
    "[10, 30, 50, 70, 90]"
   ]
  },
  {
   "cell_type": "markdown",
   "id": "9c101740",
   "metadata": {
    "id": "9c101740"
   },
   "source": [
    "___"
   ]
  },
  {
   "cell_type": "markdown",
   "id": "490f04a8",
   "metadata": {
    "id": "490f04a8"
   },
   "source": [
    "## Q 23-01\n",
    "\n",
    "La siguiente es la implantación de una pila. ¿Cuál será el resultado del siguiente código?\n",
    "\n",
    "```\n",
    "queue = Queue()\n",
    "queue.enqueue(\"Banana\")\n",
    "queue.enqueue(\"Apple\")\n",
    "queue.enqueue(\"Tomato\")\n",
    "queue.dequeue()\n",
    "queue.enqueue(\"Strawberry\")\n",
    "queue.enqueue(\"Grapes\")\n",
    "queue.dequeue()\n",
    "print(queue.queue)\n",
    "```\n",
    "\n",
    "**Respuesta:**"
   ]
  },
  {
   "cell_type": "markdown",
   "id": "f4b7a1b4",
   "metadata": {
    "id": "f4b7a1b4"
   },
   "source": [
    "['Tomato', 'Strawberry', 'Grapes']"
   ]
  },
  {
   "cell_type": "markdown",
   "id": "4811d8fa",
   "metadata": {
    "id": "4811d8fa"
   },
   "source": [
    "___"
   ]
  },
  {
   "cell_type": "markdown",
   "id": "680514b8",
   "metadata": {
    "id": "680514b8"
   },
   "source": [
    "## Q 23-02\n",
    "\n",
    "La siguiente es la implantación de una cola. ¿Cuál será el resultado del siguiente código?\n",
    "\n",
    "```\n",
    "queue = Queue()\n",
    "items = [10 * i for i in range(1,10)]\n",
    "for item in items:\n",
    "    queue.enqueue(item)\n",
    "    if (item // 10) % 2 == 0:\n",
    "        queue.dequeue()\n",
    "print(queue.queue)\n",
    "```\n",
    "\n",
    "**Respuesta:**"
   ]
  },
  {
   "cell_type": "markdown",
   "id": "d1399404",
   "metadata": {
    "id": "d1399404"
   },
   "source": [
    "[50, 60, 70, 80, 90]"
   ]
  },
  {
   "cell_type": "markdown",
   "id": "b16e0741",
   "metadata": {
    "id": "b16e0741"
   },
   "source": [
    "___"
   ]
  },
  {
   "cell_type": "markdown",
   "id": "5f2fe9e8",
   "metadata": {
    "id": "5f2fe9e8"
   },
   "source": [
    "## Q 24-01\n",
    "\n",
    "¿Cuál es el algoritmo de la siguiente función `find_two()`?\n",
    "```\n",
    "def find_two():\n",
    "    x = y = 0\n",
    "    for i in range(1, len(nums)):\n",
    "        if nums[x] < nums[i]:\n",
    "            x = i\n",
    "        elif nums[y] > nums[i]:\n",
    "            y = i\n",
    "    return x,y\n",
    "\n",
    "nums = [11, 37, 45, 26, 59, 28, 17, 53]\n",
    "i,j = find_two(nums)\n",
    "print(nums[i], nums[j])\n",
    "```\n",
    "Analice el código y escriba el resultado de la ejecución."
   ]
  },
  {
   "cell_type": "markdown",
   "id": "0407f911",
   "metadata": {
    "id": "0407f911"
   },
   "source": [
    "59 11"
   ]
  },
  {
   "cell_type": "markdown",
   "id": "bba31171",
   "metadata": {
    "id": "bba31171"
   },
   "source": [
    "___"
   ]
  },
  {
   "cell_type": "markdown",
   "id": "36e47747",
   "metadata": {
    "id": "36e47747"
   },
   "source": [
    "## Q 24-02\n",
    "\n",
    "¿Cuántas comparaciones debe realizar la función `find_two()` implementada en la pregunta anterior (24-01)?"
   ]
  },
  {
   "cell_type": "markdown",
   "id": "560f7505",
   "metadata": {
    "id": "560f7505"
   },
   "source": [
    "11 comparaciones"
   ]
  },
  {
   "cell_type": "markdown",
   "id": "976b7b8e",
   "metadata": {
    "id": "976b7b8e"
   },
   "source": [
    "___"
   ]
  },
  {
   "cell_type": "markdown",
   "id": "9fffd532",
   "metadata": {
    "id": "9fffd532"
   },
   "source": [
    "## Q 25-01\n",
    "\n",
    "El siguiente es el código para el juego de combinación de números.\n",
    "\n",
    "Si el máximo es 100 y el número es 51, ¿cuál es la salida de `count`?\n",
    "```\n",
    "from random import randint\n",
    "\n",
    "maximo = int(input(\"Ingrese el número maximo: \"))\n",
    "numero = int(input(\"Ingrese tu intento de adivinar el numero: \"))\n",
    "low, high = 1, maximo\n",
    "count = 0\n",
    "while low < high:\n",
    "    count += 1\n",
    "    mid = (low + high) // 2\n",
    "    if mid == numero:\n",
    "        print(f\"El número es {numero}\")\n",
    "        break\n",
    "    elif mid > numero:\n",
    "        high = mid - 1\n",
    "    else:\n",
    "        low  = mid + 1\n",
    "\n",
    "print(f\"Total {count} veces fue buscado.\")\n",
    "```"
   ]
  },
  {
   "cell_type": "markdown",
   "id": "2a351b8a",
   "metadata": {
    "id": "2a351b8a"
   },
   "source": [
    "Total 6 veces fue buscado."
   ]
  },
  {
   "cell_type": "markdown",
   "id": "c29e1c0c",
   "metadata": {
    "id": "c29e1c0c"
   },
   "source": [
    "___"
   ]
  },
  {
   "cell_type": "markdown",
   "id": "c185d96c",
   "metadata": {
    "id": "c185d96c"
   },
   "source": [
    "## Q 25-02\n",
    "\n",
    "En el código del juego de combinación de números, si el máximo es 100 y el número es 25, ¿cuál es el resultado del conteo?"
   ]
  },
  {
   "cell_type": "markdown",
   "id": "27353ddf",
   "metadata": {
    "id": "27353ddf"
   },
   "source": [
    "Total 2 veces fue buscado."
   ]
  },
  {
   "cell_type": "markdown",
   "id": "662d5bfd",
   "metadata": {
    "id": "662d5bfd"
   },
   "source": [
    "___"
   ]
  },
  {
   "cell_type": "markdown",
   "id": "eb266a1e",
   "metadata": {
    "id": "eb266a1e"
   },
   "source": [
    "## Q 26-01\n",
    "\n",
    "Usando la función hash de la clase HashTable, calcule la clave y la clave hash de \"Alicia en el país de las maravillas\" de la siguiente manera. (El valor clave es 1763.)\n",
    "```\n",
    "table = HashTable(8)\n",
    "book  = \"Alice in Wonderland\"\n",
    "key = sum(map(ord, book))\n",
    "print(key, table.hash(key))\n",
    "```"
   ]
  },
  {
   "cell_type": "markdown",
   "id": "4ed48ef3",
   "metadata": {
    "id": "4ed48ef3"
   },
   "source": [
    "key:  1795 \n",
    "Hash:  3"
   ]
  },
  {
   "cell_type": "markdown",
   "id": "6ef27d31",
   "metadata": {
    "id": "6ef27d31"
   },
   "source": [
    "___"
   ]
  },
  {
   "cell_type": "markdown",
   "id": "d4fd6f63",
   "metadata": {
    "id": "d4fd6f63"
   },
   "source": [
    "## Q 26-02\n",
    "\n",
    "Si la nueva estantería tiene 10 compartimentos, usa el siguiente código para averiguar qué libro hay en cada compartimento.\n",
    "```\n",
    "table = HashTable(10)\n",
    "books = [\n",
    "    \"The Little Prince\",\n",
    "    \"The Old Man and the Sea\",\n",
    "    \"The Little Memaid\",\n",
    "    \"Beauty and the Beast\",\n",
    "    \"The Last Leaf\",\n",
    "    \"Alice in Wonderland\",\n",
    "]\n",
    "\n",
    "for book in books:\n",
    "    key = sum(map(ord, book))\n",
    "    table.put(key, book)\n",
    "\n",
    "for key in table.table.key():\n",
    "    print(key, table.table[key])\n",
    "```"
   ]
  },
  {
   "cell_type": "markdown",
   "id": "f549a890",
   "metadata": {
    "id": "f549a890"
   },
   "source": [
    "Resultado:\n",
    "```\n",
    "Bucket 3: [('The Last Leaf', 'The Last Leaf')]\n",
    "Bucket 4: [('The Little Prince', 'The Little Prince'), ('The Little Memaid', 'The Little Memaid')]\n",
    "Bucket 5: [('Alice in Wonderland', 'Alice in Wonderland')]\n",
    "Bucket 7: [('Beauty and the Beast', 'Beauty and the Beast')]\n",
    "Bucket 9: [('The Old Man and the Sea', 'The Old Man and the Sea')]\n",
    "```"
   ]
  },
  {
   "cell_type": "markdown",
   "id": "574b1c0f",
   "metadata": {
    "id": "574b1c0f"
   },
   "source": [
    "___"
   ]
  },
  {
   "cell_type": "markdown",
   "id": "7f165fb5",
   "metadata": {
    "id": "7f165fb5"
   },
   "source": [
    "# Fin"
   ]
  }
 ],
 "metadata": {
  "colab": {
   "provenance": []
  },
  "kernelspec": {
   "display_name": "Python 3",
   "language": "python",
   "name": "python3"
  },
  "language_info": {
   "codemirror_mode": {
    "name": "ipython",
    "version": 3
   },
   "file_extension": ".py",
   "mimetype": "text/x-python",
   "name": "python",
   "nbconvert_exporter": "python",
   "pygments_lexer": "ipython3",
   "version": "3.13.7"
  }
 },
 "nbformat": 4,
 "nbformat_minor": 5
}
