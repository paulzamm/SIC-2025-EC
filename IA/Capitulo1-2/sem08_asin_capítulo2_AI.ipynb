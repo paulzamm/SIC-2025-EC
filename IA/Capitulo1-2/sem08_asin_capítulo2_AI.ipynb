{
 "cells": [
  {
   "cell_type": "markdown",
   "metadata": {
    "id": "77PXbGMs1kY0"
   },
   "source": [
    "# Evaluación de Álgebra, Secuencia y Conceptos Matemáticos con Python\n",
    "\n",
    "## Actividad 1: Manipulación de Datos con Python\n",
    "\n",
    "1.1 Utilizando Python, crea una lista con los primeros 10 números primos. Luego, realiza las siguientes operaciones:\n",
    "   - Calcula la suma de los números primos.\n",
    "   - Encuentra el promedio de los números primos."
   ]
  },
  {
   "cell_type": "code",
   "execution_count": 15,
   "metadata": {
    "id": "4VzfnTl61dFd"
   },
   "outputs": [
    {
     "name": "stdout",
     "output_type": "stream",
     "text": [
      "Primeros 10 números primos:  [2, 3, 5, 7, 11, 13, 17, 19, 23, 29]\n",
      "Suma de los números primos:  129\n",
      "Promedio de los números primos:  12.9\n"
     ]
    }
   ],
   "source": [
    "import math\n",
    "\n",
    "def es_primo(n):\n",
    "    if n < 2:\n",
    "        return False\n",
    "    for i in range(2, int(math.sqrt(n)) + 1):\n",
    "        if n % i == 0:\n",
    "            return False\n",
    "    return True\n",
    "\n",
    "numero_primos = []\n",
    "num = 2\n",
    "\n",
    "while len(numero_primos) < 10:\n",
    "    if es_primo(num):\n",
    "        numero_primos.append(num)\n",
    "    num += 1\n",
    "\n",
    "print(\"Primeros 10 números primos: \", numero_primos)\n",
    "print(\"Suma de los números primos: \", sum(numero_primos))\n",
    "print(\"Promedio de los números primos: \", sum(numero_primos)/len(numero_primos))"
   ]
  },
  {
   "cell_type": "markdown",
   "metadata": {
    "id": "16aTSDpR1upT"
   },
   "source": [
    "## Actividad 2: Álgebra y Ecuaciones con Python\n",
    "\n",
    "2.1 Crea una función en Python que resuelva ecuaciones lineales de la forma \\( ax + b = c \\). La función debe recibir los coeficientes \\( a, b, c \\) como parámetros y devolver el valor de \\( x \\).\n",
    "\n",
    "2.2 Utiliza la función creada para resolver la ecuación \\( 3x + 7 = 16 \\)."
   ]
  },
  {
   "cell_type": "code",
   "execution_count": 16,
   "metadata": {
    "id": "FOirBbxz1zMf"
   },
   "outputs": [
    {
     "name": "stdout",
     "output_type": "stream",
     "text": [
      "Solución de la ecuación 3x + 7 = 16 --> x = 3.0\n"
     ]
    }
   ],
   "source": [
    "# Espacio para desarrollar el código necesario.\n",
    "def ecuacion_lineal(a, b, c):\n",
    "    if a == 0: # Verificación para evitar división por cero\n",
    "        raise ValueError(\"El coeficiente 'a' no puede ser cero en una ecuación lineal.\")\n",
    "    x = (c - b) / a  # Despeje de la variable x\n",
    "    return x\n",
    "\n",
    "print(\"Solución de la ecuación 3x + 7 = 16 --> x =\", ecuacion_lineal(3, 7, 16))"
   ]
  },
  {
   "cell_type": "markdown",
   "metadata": {
    "id": "kULG9f8u1-c7"
   },
   "source": [
    "## Actividad 3: Manipulación de Conjuntos con Python\n",
    "\n",
    "3.1 Define dos conjuntos en Python que representen conjuntos numéricos, por ejemplo, \\( A = \\{1, 2, 3, 4, 5\\} \\) y \\( B = \\{3, 4, 5, 6, 7\\} \\).\n",
    "\n",
    "3.2 Implementa funciones en Python para realizar las operaciones de unión e intersección entre los conjuntos \\( A \\) y \\( B \\).\n",
    "\n",
    "3.3 Determina si \\( A \\) es un subconjunto de \\( B \\) y muestra el resultado.\n",
    "\n",
    "---\n"
   ]
  },
  {
   "cell_type": "code",
   "execution_count": 17,
   "metadata": {
    "id": "pvuMEyTw2COE"
   },
   "outputs": [
    {
     "name": "stdout",
     "output_type": "stream",
     "text": [
      "Unión de A y B: {1, 2, 3, 4, 5, 6, 7}\n",
      "Intersección de A y B: {3, 4, 5}\n",
      "¿A es subconjunto de B?  False\n"
     ]
    }
   ],
   "source": [
    "A = {1, 2, 3, 4, 5}  # Definición del conjunto A\n",
    "B = {3, 4, 5, 6, 7}  # Definición del conjunto B\n",
    "\n",
    "print(\"Unión de A y B:\", A.union(B))  # Unión de conjuntos\n",
    "print(\"Intersección de A y B:\", A.intersection(B))  # Intersección de conjuntos\n",
    "print(\"¿A es subconjunto de B? \", A.issubset(B))  # Verificación de subconjunto"
   ]
  },
  {
   "cell_type": "markdown",
   "metadata": {
    "id": "4TfphJK9yR7L"
   },
   "source": [
    "# Evaluación de Funciones Matemáticas con Python\n",
    "\n",
    "## Actividad 4: Funciones Exponencial y Logarítmica\n",
    "\n",
    "4.1 Implementa una función en Python que calcule la potencia de un número. La función debe recibir la base y el exponente como parámetros.\n",
    "\n",
    "4.2 Utiliza la función creada para calcular \\(2^5\\) y muestra el resultado.\n",
    "\n",
    "4.3 Crea otra función que calcule el logaritmo natural de un número.\n",
    "\n",
    "4.4 Utiliza esta función para encontrar \\(\\ln(e^3)\\) y muestra el resultado.\n",
    "\n",
    "\n"
   ]
  },
  {
   "cell_type": "code",
   "execution_count": 18,
   "metadata": {
    "id": "Q11bRS87yRDA"
   },
   "outputs": [
    {
     "name": "stdout",
     "output_type": "stream",
     "text": [
      "2 elevado a la 5 es: 32.0\n",
      "Logaritmo natural de 'e' es: 1.0\n"
     ]
    }
   ],
   "source": [
    "import math\n",
    "\n",
    "def potencia(base, exponente):\n",
    "    return math.pow(base, exponente)  # Cálculo de la potencia\n",
    "\n",
    "print(\"2 elevado a la 5 es:\", potencia(2, 5))  # Ejemplo de uso de la función potencia\n",
    "\n",
    "def logaritmo_natural(x):\n",
    "    if x <= 0:\n",
    "        raise ValueError(\"El logaritmo natural solo está definido para números positivos.\")\n",
    "    return math.log(x)  # Cálculo del logaritmo natural\n",
    "\n",
    "print(\"Logaritmo natural de 'e' es:\", logaritmo_natural(math.e))  # Ejemplo de uso de la función logaritmo_natural"
   ]
  },
  {
   "cell_type": "markdown",
   "metadata": {
    "id": "T5TdX22qybdj"
   },
   "source": [
    "## Actividad 5: Funciones Trigonométricas y Sigmoideas\n",
    "\n",
    "5.1 Define una función en Python que calcule el seno de un ángulo dado en grados.\n",
    "\n",
    "5.2 Utiliza la función para encontrar \\(\\sin(30^\\circ)\\) y muestra el resultado.\n",
    "\n",
    "5.3 Implementa una función sigmoidea en Python. La función debe recibir un número como parámetro y devolver el resultado de la función sigmoidea.\n",
    "\n",
    "5.4 Utiliza la función sigmoidea para calcular \\( \\sigma(2) \\) y muestra el resultado.\n",
    "\n",
    "---"
   ]
  },
  {
   "cell_type": "code",
   "execution_count": 20,
   "metadata": {
    "id": "PBefa0-dypS8"
   },
   "outputs": [
    {
     "name": "stdout",
     "output_type": "stream",
     "text": [
      "Seno de 30 grados es: 0.500\n",
      "Sigmoidea de 2 es: 0.881\n"
     ]
    }
   ],
   "source": [
    "def seno_angulo(grados):\n",
    "    radianes = math.radians(grados)  # Conversión de grados a radianes\n",
    "    return math.sin(radianes)  # Cálculo del seno\n",
    "\n",
    "print(f\"Seno de 30 grados es: {seno_angulo(30):.3f}\")  # Ejemplo de uso de la función seno_angulo\n",
    "\n",
    "def funcion_sigmoidea(x):\n",
    "    return 1 / (1 + math.exp(-x))  # Cálculo de la función sigmoidea\n",
    "\n",
    "print(f\"Sigmoidea de 2 es: {funcion_sigmoidea(2):.3f}\")  # Ejemplo de uso de la función sigmoidea"
   ]
  }
 ],
 "metadata": {
  "colab": {
   "authorship_tag": "ABX9TyNBlgYu8w7W7ZRDlBELyMaC",
   "provenance": []
  },
  "kernelspec": {
   "display_name": "Python 3",
   "name": "python3"
  },
  "language_info": {
   "codemirror_mode": {
    "name": "ipython",
    "version": 3
   },
   "file_extension": ".py",
   "mimetype": "text/x-python",
   "name": "python",
   "nbconvert_exporter": "python",
   "pygments_lexer": "ipython3",
   "version": "3.13.7"
  }
 },
 "nbformat": 4,
 "nbformat_minor": 0
}
