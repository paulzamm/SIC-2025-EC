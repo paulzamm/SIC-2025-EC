{
 "cells": [
  {
   "cell_type": "markdown",
   "id": "f34adb44",
   "metadata": {
    "id": "f34adb44"
   },
   "source": [
    "# Inteligencia Artificial\n",
    "\n",
    "## Capítulo 3\n",
    "\n",
    "### NumPy Arrays: Computación Numérica Optimizada y Pandas: Análisis Exploratorio de Datos\n",
    "\n",
    "- **Unidad 1.** Estructura de datos de matriz de NumPy para un rendimiento computacional óptimo\n",
    "- **Unidad 2.** Exploración óptima de datos a través de pandas\n",
    "- **Unidad 3.** Pre-procesamiento de datos de pandas para una ejecución óptima del modelo\n",
    "- **Unidad 4.** Visualización de datos para varias escalas de datos\n",
    "\n",
    "## Capítulo 4\n",
    "\n",
    "### Probabilidad y estadística\n",
    "\n",
    "- **Unidad 1.** Comprensión de la probabilidad\n",
    "- **Unidad 2.** Comprensión de la Estadística I\n",
    "- **Unidad 3.** Comprensión de la Estadística II\n",
    "- **Unidad 4.** Prueba de hipótesis estadística\n",
    "\n",
    "## Capítulo 5\n",
    "\n",
    "### Machine Learning / Aprendizaje Supervisado\n",
    "\n",
    "- **Unidad 1.** Análisis de datos basado en el aprendizaje automático\n",
    "- **Unidad 2.** Aplicación del modelo de aprendizaje supervisado para la predicción numérica\n",
    "- **Unidad 3.** Aplicación del modelo de aprendizaje supervisado para la clasificación\n",
    "- **Unidad 4.** Árbol de decisión\n",
    "- **Unidad 5.** Algoritmo Naïve Bayes (Algoritmo de predicción)\n",
    "- **Unidad 6.** Algoritmo KNN\n",
    "- **Unidad 7.** Algoritmo SVM\n",
    "- **Unidad 8.** Algoritmos Ensemble\n",
    "\n",
    "# Quiz"
   ]
  },
  {
   "cell_type": "markdown",
   "id": "2e42031a",
   "metadata": {
    "id": "2e42031a"
   },
   "source": [
    "___"
   ]
  },
  {
   "cell_type": "markdown",
   "id": "ac1e9b02",
   "metadata": {
    "id": "ac1e9b02"
   },
   "source": [
    "## Q 03-01\n",
    "\n",
    "### ¿Cuál es una sintaxis correcta para crear una matriz NumPy?\n",
    "\n",
    "1. np.createArray([1, 2, 3, 4, 5])\n",
    "2. np.array([1, 2, 3, 4, 5])\n",
    "3. np.object([1, 2, 3, 4, 5])"
   ]
  },
  {
   "cell_type": "markdown",
   "id": "903e6874",
   "metadata": {
    "id": "903e6874"
   },
   "source": [
    "**Respuesta:**"
   ]
  },
  {
   "cell_type": "code",
   "execution_count": null,
   "id": "mQPwnr-d4nn4",
   "metadata": {
    "id": "mQPwnr-d4nn4"
   },
   "outputs": [],
   "source": []
  },
  {
   "cell_type": "markdown",
   "id": "62678495",
   "metadata": {
    "id": "62678495"
   },
   "source": [
    "**Respuesta:**"
   ]
  },
  {
   "cell_type": "markdown",
   "id": "410f8980",
   "metadata": {
    "id": "410f8980"
   },
   "source": [
    "## Q 03-02\n",
    "\n",
    "### Responde las siguientes preguntas.\n",
    "\n",
    "```\n",
    "import pandas as pd\n",
    "import numpy as np\n",
    "import os\n",
    "import matplotlib.pyplot as plt\n",
    "%matplotlib inline\n",
    "\n",
    "# Lea los datos.\n",
    "# Vaya al directorio donde se encuentra el archivo de los datos.\n",
    "os.chdir(r'~~') # Reemplace con la dirección del archivo\n",
    "df = pd.read_csv('data_sales.csv', header='infer')\n",
    "df.shape\n",
    "df.head(5)\n",
    "```\n",
    "\n",
    "1. Agregue una nueva variable 𝐴𝑚𝑜𝑢𝑛𝑡=𝑈𝑛𝑖𝑡𝑃𝑟𝑖𝑐×𝑈𝑛𝑖𝑡𝑠Amount=UnitPric×Units.\n",
    "2. Precio unitario medio de cada región. Utilice el método groupby().\n",
    "3. Precio unitario medio de cada región. Usa el método pivot_table()."
   ]
  },
  {
   "cell_type": "markdown",
   "id": "b239c413",
   "metadata": {
    "id": "b239c413"
   },
   "source": [
    "**Respuesta:**"
   ]
  },
  {
   "cell_type": "code",
   "execution_count": null,
   "id": "QjlPDxBc7XOE",
   "metadata": {
    "id": "QjlPDxBc7XOE"
   },
   "outputs": [],
   "source": []
  },
  {
   "cell_type": "markdown",
   "id": "23c73b9a",
   "metadata": {},
   "source": [
    "## Q 04-01\n",
    "\n",
    "### ¿Qué no es correcto como interpretación del modelo de ajuste en el siguiente análisis estadístico?\n",
    "\n",
    "\n",
    "\n",
    "1. En el análisis estadístico, la prueba unilateral indica que la hipótesis nula para el parámetro es H_0 ∶ θ = θ_0 y la hipótesis alternativa se puede definir como H_1 ∶ θ < θ_0 o H_1 ∶ θ > θ_0.\n",
    "2. El error tipo I es el nivel de significancia y es un error que ocurre cuando se rechaza la hipótesis nula verdadera aunque la hipótesis nula sea verdadera.\n",
    "3. Si la probabilidad de significancia p es mayor que el nivel de significancia α (p > α), se rechaza la hipótesis nula y se adopta la hipótesis alternativa\n",
    "4. Para probar la significancia de la ecuación de regresión, se debe realizar una prueba de significancia en la pendiente de la ecuación de regresión, por lo que la hipótesis es H_0 ∶ β_1= 0, H_1 ∶ β_1≠ 0 (donde β_1 es la pendiente de la ecuación de regresión ecuación)."
   ]
  },
  {
   "cell_type": "markdown",
   "id": "d95cb1bf",
   "metadata": {},
   "source": [
    "**Respuesta:**"
   ]
  },
  {
   "cell_type": "code",
   "execution_count": null,
   "id": "23bfa4fe",
   "metadata": {},
   "outputs": [],
   "source": []
  },
  {
   "cell_type": "markdown",
   "id": "c1656d2c",
   "metadata": {},
   "source": [
    "## Q 04-02\n",
    "\n",
    "### Entre los estudiantes que tomaron la clase de Información y Estadística, se seleccionaron aleatoriamente 30 estudiantes. Al investigar el promedio de sus calificaciones, la media fue 80 y la varianza fue 9. Encuentre un intervalo de confianza del 95% para el promedio de sus calificaciones."
   ]
  },
  {
   "cell_type": "markdown",
   "id": "400e32dc",
   "metadata": {},
   "source": [
    "**Respuesta:**"
   ]
  },
  {
   "cell_type": "code",
   "execution_count": null,
   "id": "42710537",
   "metadata": {},
   "outputs": [],
   "source": []
  },
  {
   "cell_type": "markdown",
   "id": "0e794029",
   "metadata": {},
   "source": [
    "## Q 05-01\n",
    "\n",
    "### ¿Cuál de las siguientes afirmaciones sobre el aprendizaje supervisado es incorrecta?\n",
    "\n",
    "1. El aprendiz supervisado debe hacer predicciones correctamente con los datos dados a partir de los datos de entrenamiento.\n",
    "2. La precisión es la relación entre lo que el modelo clasifica como verdadero y lo que realmente clasifica como verdadero. A esto se le puede llamar la tasa de respuesta.\n",
    "3. La relación de recuerdo es la relación entre lo que el modelo predice que es verdadero y lo que es realmente cierto.\n",
    "4. La relación de recuperación se calcula como $\\frac{tp}{tp+fp}$. (donde $tp$ es verdadero positivo y $fp$ es falso positivo).\n",
    "\n",
    "**Respuesta:**"
   ]
  },
  {
   "cell_type": "code",
   "execution_count": null,
   "id": "69b65ff3",
   "metadata": {},
   "outputs": [],
   "source": []
  },
  {
   "cell_type": "markdown",
   "id": "1176a002",
   "metadata": {},
   "source": [
    "## Q 05-02\n",
    "\n",
    "### ¿Cuál de las siguientes afirmaciones sobre el sobreajuste es incorrecta?\n",
    "\n",
    "1. Una característica de un patrón que se encuentra en un conjunto de datos específico que existe solo en ese conjunto de datos, o una característica de un patrón que no se generaliza y existe solo en un dato específico se denomina sobreajuste\n",
    "2. Los métodos de extracción utilizados para resolver el problema de sobreajuste incluyen el método de exclusión, el método de validación cruzada, el método de arranque, etc.\n",
    "3. En el método de reserva, la validación cruzada se realiza dividiendo los datos de entrenamiento para el aprendizaje y la construcción del modelo y los datos de verificación para la evaluación del desempeño, y los resultados de los datos de verificación se usan solo para la medición del desempeño sin afectar el modelo.\n",
    "4. El método de validación cruzada es un método para volver a seleccionar datos de entrenamiento repetidamente y en función de la extracción de restauración, y es adecuado cuando la cantidad total de datos no es grande.\n",
    "\n",
    "**Respuesta:**"
   ]
  },
  {
   "cell_type": "code",
   "execution_count": null,
   "id": "2cb48f84",
   "metadata": {},
   "outputs": [],
   "source": []
  },
  {
   "cell_type": "markdown",
   "id": "c7636189",
   "metadata": {},
   "source": [
    "___"
   ]
  },
  {
   "cell_type": "markdown",
   "id": "e18787df",
   "metadata": {},
   "source": [
    "## Fin"
   ]
  }
 ],
 "metadata": {
  "colab": {
   "provenance": []
  },
  "kernelspec": {
   "display_name": "Python 3 (ipykernel)",
   "language": "python",
   "name": "python3"
  },
  "language_info": {
   "codemirror_mode": {
    "name": "ipython",
    "version": 3
   },
   "file_extension": ".py",
   "mimetype": "text/x-python",
   "name": "python",
   "nbconvert_exporter": "python",
   "pygments_lexer": "ipython3",
   "version": "3.10.12"
  }
 },
 "nbformat": 4,
 "nbformat_minor": 5
}
